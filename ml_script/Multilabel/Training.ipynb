{
 "cells": [
  {
   "cell_type": "code",
   "execution_count": 1,
   "metadata": {
    "id": "kdLLkogk2st7"
   },
   "outputs": [],
   "source": [
    "import pandas as pd\n",
    "import glob\n",
    "import os\n",
    "\n",
    "import collections\n",
    "import tqdm\n",
    "import os\n",
    "import sys\n",
    "\n",
    "import logging\n",
    "import requests\n",
    "from itertools import chain\n",
    "\n",
    "import joblib\n",
    "import json\n",
    "from datetime import datetime\n",
    "# import spacy\n",
    "\n",
    "# from nltk.corpus import stopwords\n",
    "\n",
    "logger = logging.getLogger(__name__)\n",
    "\n",
    "import numpy as np\n",
    "import pandas as pd\n",
    "# import string\n",
    "\n",
    "# punc = string.punctuation\n",
    "\n",
    "# stop_words = set(stopwords.words('english'))"
   ]
  },
  {
   "cell_type": "code",
   "execution_count": 2,
   "metadata": {},
   "outputs": [
    {
     "data": {
      "text/plain": [
       "'4.30.2'"
      ]
     },
     "execution_count": 2,
     "metadata": {},
     "output_type": "execute_result"
    }
   ],
   "source": [
    "import transformers\n",
    "transformers.__version__"
   ]
  },
  {
   "cell_type": "code",
   "execution_count": 3,
   "metadata": {},
   "outputs": [],
   "source": [
    "# import transformers\n",
    "# print(transformers.version)\n",
    "# !pip install datasets==1.2.1\n",
    "# !pip install huggingface_hub==0.5.0\n",
    "# !pip uninstall -y huggingface_hub\n",
    "import datasets"
   ]
  },
  {
   "cell_type": "code",
   "execution_count": 4,
   "metadata": {
    "id": "8-YW-3bXGRw5"
   },
   "outputs": [],
   "source": [
    "# all_files = glob.glob(os.path.join('/home/contify/Desktop/Jupyter Notebook/Bert Topic Traning/topics_data_2_year', \"*.csv\"))\n",
    "\n",
    "df = df = pd.read_excel('/home/asim/Downloads/Business_Events_Old_Data.xlsx')"
   ]
  },
  {
   "cell_type": "code",
   "execution_count": 5,
   "metadata": {
    "id": "gcG-I4s-GkBo"
   },
   "outputs": [],
   "source": [
    "df = df.fillna(' ')"
   ]
  },
  {
   "cell_type": "code",
   "execution_count": 6,
   "metadata": {
    "id": "7sn-RCPpGpze"
   },
   "outputs": [],
   "source": [
    "# df['s_tags'] = df.s_tags.apply(lambda x: [int(j.strip()) for j in x[1:-1].split(',') if j != ''])\n"
   ]
  },
  {
   "cell_type": "code",
   "execution_count": 7,
   "metadata": {},
   "outputs": [],
   "source": [
    "# for x  in df['s_tags']:\n",
    "#     print([int(j.strip()) for j in x[1:-1].split(',') if j != ''])"
   ]
  },
  {
   "cell_type": "code",
   "execution_count": 8,
   "metadata": {
    "id": "NIz9twiSGtz2"
   },
   "outputs": [],
   "source": [
    "# df = df.fillna(' ')"
   ]
  },
  {
   "cell_type": "code",
   "execution_count": 9,
   "metadata": {},
   "outputs": [
    {
     "data": {
      "text/html": [
       "<div>\n",
       "<style scoped>\n",
       "    .dataframe tbody tr th:only-of-type {\n",
       "        vertical-align: middle;\n",
       "    }\n",
       "\n",
       "    .dataframe tbody tr th {\n",
       "        vertical-align: top;\n",
       "    }\n",
       "\n",
       "    .dataframe thead th {\n",
       "        text-align: right;\n",
       "    }\n",
       "</style>\n",
       "<table border=\"1\" class=\"dataframe\">\n",
       "  <thead>\n",
       "    <tr style=\"text-align: right;\">\n",
       "      <th></th>\n",
       "      <th>Text</th>\n",
       "      <th>s_tags</th>\n",
       "    </tr>\n",
       "  </thead>\n",
       "  <tbody>\n",
       "    <tr>\n",
       "      <th>0</th>\n",
       "      <td>Sumo Logic Provides Cloud-Native Log Analytics...</td>\n",
       "      <td>[35]</td>\n",
       "    </tr>\n",
       "    <tr>\n",
       "      <th>1</th>\n",
       "      <td>Mitsubishi Electric Announces Changes in Divis...</td>\n",
       "      <td>[7]</td>\n",
       "    </tr>\n",
       "    <tr>\n",
       "      <th>2</th>\n",
       "      <td>BTG Pactual acquires FIS Privatbank S.A. The a...</td>\n",
       "      <td>[8]</td>\n",
       "    </tr>\n",
       "    <tr>\n",
       "      <th>3</th>\n",
       "      <td>Ericsson and Telefónica agree to collaborate o...</td>\n",
       "      <td>[13]</td>\n",
       "    </tr>\n",
       "    <tr>\n",
       "      <th>4</th>\n",
       "      <td>Warsaw without coal O wprowadzenie uchwały ant...</td>\n",
       "      <td>[13]</td>\n",
       "    </tr>\n",
       "    <tr>\n",
       "      <th>...</th>\n",
       "      <td>...</td>\n",
       "      <td>...</td>\n",
       "    </tr>\n",
       "    <tr>\n",
       "      <th>25296</th>\n",
       "      <td>Xiaomi files patent for technology supporting ...</td>\n",
       "      <td>[48, 56]</td>\n",
       "    </tr>\n",
       "    <tr>\n",
       "      <th>25297</th>\n",
       "      <td>EC-Council Announces $3.5 Million CCT Scholars...</td>\n",
       "      <td>[48, 49]</td>\n",
       "    </tr>\n",
       "    <tr>\n",
       "      <th>25298</th>\n",
       "      <td>Smarttech247 partners with SentinelOne® to pro...</td>\n",
       "      <td>[48, 49]</td>\n",
       "    </tr>\n",
       "    <tr>\n",
       "      <th>25299</th>\n",
       "      <td>West Pharmaceutical Services Opens New R&amp;D Lab...</td>\n",
       "      <td>[2, 13]</td>\n",
       "    </tr>\n",
       "    <tr>\n",
       "      <th>25300</th>\n",
       "      <td>Absci Expands in Europe, Adds Senior Leadershi...</td>\n",
       "      <td>[2, 13]</td>\n",
       "    </tr>\n",
       "  </tbody>\n",
       "</table>\n",
       "<p>25301 rows × 2 columns</p>\n",
       "</div>"
      ],
      "text/plain": [
       "                                                    Text    s_tags\n",
       "0      Sumo Logic Provides Cloud-Native Log Analytics...      [35]\n",
       "1      Mitsubishi Electric Announces Changes in Divis...       [7]\n",
       "2      BTG Pactual acquires FIS Privatbank S.A. The a...       [8]\n",
       "3      Ericsson and Telefónica agree to collaborate o...      [13]\n",
       "4      Warsaw without coal O wprowadzenie uchwały ant...      [13]\n",
       "...                                                  ...       ...\n",
       "25296  Xiaomi files patent for technology supporting ...  [48, 56]\n",
       "25297  EC-Council Announces $3.5 Million CCT Scholars...  [48, 49]\n",
       "25298  Smarttech247 partners with SentinelOne® to pro...  [48, 49]\n",
       "25299  West Pharmaceutical Services Opens New R&D Lab...   [2, 13]\n",
       "25300  Absci Expands in Europe, Adds Senior Leadershi...   [2, 13]\n",
       "\n",
       "[25301 rows x 2 columns]"
      ]
     },
     "execution_count": 9,
     "metadata": {},
     "output_type": "execute_result"
    }
   ],
   "source": [
    "df"
   ]
  },
  {
   "cell_type": "code",
   "execution_count": 10,
   "metadata": {},
   "outputs": [],
   "source": [
    "import ast\n",
    "df['s_tags'] = df['s_tags'].apply(ast.literal_eval)"
   ]
  },
  {
   "cell_type": "code",
   "execution_count": 11,
   "metadata": {
    "id": "w8buHOzhGxT1"
   },
   "outputs": [],
   "source": [
    "tag_list = df['s_tags'].to_list()\n",
    "all_tag_list = list(chain.from_iterable(tag_list))\n",
    "# all_tag_list = [i.strip() for i in all_tag_list]\n",
    "tag_count = collections.Counter(all_tag_list)\n",
    "del all_tag_list, tag_list"
   ]
  },
  {
   "cell_type": "code",
   "execution_count": 12,
   "metadata": {
    "id": "io-qBGbiG0qB"
   },
   "outputs": [],
   "source": [
    "del tag_count['']"
   ]
  },
  {
   "cell_type": "code",
   "execution_count": 13,
   "metadata": {
    "id": "AkkR9lU_Xr-L"
   },
   "outputs": [],
   "source": [
    "tag_count = {int(i):j for i,j in tag_count.items()}"
   ]
  },
  {
   "cell_type": "code",
   "execution_count": 14,
   "metadata": {
    "colab": {
     "base_uri": "https://localhost:8080/",
     "height": 624
    },
    "id": "KGgkj7wQXv6B",
    "outputId": "5ab2c1fd-6d75-4e47-8a82-f6f148fce30d"
   },
   "outputs": [],
   "source": [
    "# df[['title', 'lead', 'body']]"
   ]
  },
  {
   "cell_type": "code",
   "execution_count": 15,
   "metadata": {},
   "outputs": [
    {
     "data": {
      "text/html": [
       "<div>\n",
       "<style scoped>\n",
       "    .dataframe tbody tr th:only-of-type {\n",
       "        vertical-align: middle;\n",
       "    }\n",
       "\n",
       "    .dataframe tbody tr th {\n",
       "        vertical-align: top;\n",
       "    }\n",
       "\n",
       "    .dataframe thead th {\n",
       "        text-align: right;\n",
       "    }\n",
       "</style>\n",
       "<table border=\"1\" class=\"dataframe\">\n",
       "  <thead>\n",
       "    <tr style=\"text-align: right;\">\n",
       "      <th></th>\n",
       "      <th>Text</th>\n",
       "      <th>s_tags</th>\n",
       "    </tr>\n",
       "  </thead>\n",
       "  <tbody>\n",
       "    <tr>\n",
       "      <th>0</th>\n",
       "      <td>Sumo Logic Provides Cloud-Native Log Analytics...</td>\n",
       "      <td>[35]</td>\n",
       "    </tr>\n",
       "    <tr>\n",
       "      <th>1</th>\n",
       "      <td>Mitsubishi Electric Announces Changes in Divis...</td>\n",
       "      <td>[7]</td>\n",
       "    </tr>\n",
       "    <tr>\n",
       "      <th>2</th>\n",
       "      <td>BTG Pactual acquires FIS Privatbank S.A. The a...</td>\n",
       "      <td>[8]</td>\n",
       "    </tr>\n",
       "    <tr>\n",
       "      <th>3</th>\n",
       "      <td>Ericsson and Telefónica agree to collaborate o...</td>\n",
       "      <td>[13]</td>\n",
       "    </tr>\n",
       "    <tr>\n",
       "      <th>4</th>\n",
       "      <td>Warsaw without coal O wprowadzenie uchwały ant...</td>\n",
       "      <td>[13]</td>\n",
       "    </tr>\n",
       "    <tr>\n",
       "      <th>...</th>\n",
       "      <td>...</td>\n",
       "      <td>...</td>\n",
       "    </tr>\n",
       "    <tr>\n",
       "      <th>25296</th>\n",
       "      <td>Xiaomi files patent for technology supporting ...</td>\n",
       "      <td>[48, 56]</td>\n",
       "    </tr>\n",
       "    <tr>\n",
       "      <th>25297</th>\n",
       "      <td>EC-Council Announces $3.5 Million CCT Scholars...</td>\n",
       "      <td>[48, 49]</td>\n",
       "    </tr>\n",
       "    <tr>\n",
       "      <th>25298</th>\n",
       "      <td>Smarttech247 partners with SentinelOne® to pro...</td>\n",
       "      <td>[48, 49]</td>\n",
       "    </tr>\n",
       "    <tr>\n",
       "      <th>25299</th>\n",
       "      <td>West Pharmaceutical Services Opens New R&amp;D Lab...</td>\n",
       "      <td>[2, 13]</td>\n",
       "    </tr>\n",
       "    <tr>\n",
       "      <th>25300</th>\n",
       "      <td>Absci Expands in Europe, Adds Senior Leadershi...</td>\n",
       "      <td>[2, 13]</td>\n",
       "    </tr>\n",
       "  </tbody>\n",
       "</table>\n",
       "<p>25301 rows × 2 columns</p>\n",
       "</div>"
      ],
      "text/plain": [
       "                                                    Text    s_tags\n",
       "0      Sumo Logic Provides Cloud-Native Log Analytics...      [35]\n",
       "1      Mitsubishi Electric Announces Changes in Divis...       [7]\n",
       "2      BTG Pactual acquires FIS Privatbank S.A. The a...       [8]\n",
       "3      Ericsson and Telefónica agree to collaborate o...      [13]\n",
       "4      Warsaw without coal O wprowadzenie uchwały ant...      [13]\n",
       "...                                                  ...       ...\n",
       "25296  Xiaomi files patent for technology supporting ...  [48, 56]\n",
       "25297  EC-Council Announces $3.5 Million CCT Scholars...  [48, 49]\n",
       "25298  Smarttech247 partners with SentinelOne® to pro...  [48, 49]\n",
       "25299  West Pharmaceutical Services Opens New R&D Lab...   [2, 13]\n",
       "25300  Absci Expands in Europe, Adds Senior Leadershi...   [2, 13]\n",
       "\n",
       "[25301 rows x 2 columns]"
      ]
     },
     "execution_count": 15,
     "metadata": {},
     "output_type": "execute_result"
    }
   ],
   "source": [
    "df"
   ]
  },
  {
   "cell_type": "code",
   "execution_count": 16,
   "metadata": {
    "colab": {
     "base_uri": "https://localhost:8080/"
    },
    "id": "JNso_t3pXz92",
    "outputId": "d51eec1a-7667-40c4-9734-642d5b32bfc4"
   },
   "outputs": [],
   "source": [
    "# df[df[['title', 'lead', 'body']].apply(lambda x: len(x[0].split())<3 or len(x[1].split())<3 or len(x[2].split())<3 , axis=1)].shape"
   ]
  },
  {
   "cell_type": "code",
   "execution_count": 17,
   "metadata": {},
   "outputs": [],
   "source": [
    "import re\n",
    "def split_it(x):\n",
    "    return re.sub('<[^<]+?>', '', x)"
   ]
  },
  {
   "cell_type": "code",
   "execution_count": 18,
   "metadata": {},
   "outputs": [],
   "source": [
    "df['Text'] = df['Text'].apply(lambda x: split_it(x))\n",
    "# df['lead'] = df['lead'].apply(lambda x: split_it(x))"
   ]
  },
  {
   "cell_type": "code",
   "execution_count": 19,
   "metadata": {
    "id": "0w_KgILHX3MI"
   },
   "outputs": [],
   "source": [
    "# id_name_map ={98485: 'Strategy',\n",
    "#              98495: 'Business Closure',\n",
    "#              98496: 'Business Expansion',\n",
    "#              98498: 'Business Reorganisation/ Restructuring',\n",
    "#              98499: 'Demerger/ Spin Off',\n",
    "#              98500: 'Leadership Changes',\n",
    "#              98501: 'M&A Activities',\n",
    "#              98502: 'Asset Buy/ Divestiture',\n",
    "#              98503: 'Funding Activities',\n",
    "#              98504: 'Capital Investment',\n",
    "#              98505: 'Joint Ventures',\n",
    "#              98506: 'Partnerships and Alliances',\n",
    "#              98559: 'R&D Labs/ Innovation Centers',\n",
    "#              98486: 'Marketing',\n",
    "#              98540: 'Marketing & Promotional Activities',\n",
    "#              98541: 'Awards & Recognitions',\n",
    "#              98542: 'Rebranding',\n",
    "#              98487: 'HR & People',\n",
    "#              98543: 'Hirings (Non-Leadership)',\n",
    "#              98544: 'Layoff',\n",
    "#              98545: 'Employee Related Initiative',\n",
    "#              98488: 'Operations',\n",
    "#              98509: 'Operational Performance',\n",
    "#              98510: 'Cost Cutting',\n",
    "#              98511: 'Supply Chain/ Procurement',\n",
    "#              98512: 'Operational Challenges',\n",
    "#              98513: 'Facility/ Office Closure',\n",
    "#              98515: 'Digital Transformation Initiative',\n",
    "#              98489: 'Sales',\n",
    "#              98533: 'Tender/ Contract Updates',\n",
    "#              98536: 'Pricing Changes',\n",
    "#              98490: 'Products/ Services',\n",
    "#              98491: 'Product Discontinuation',\n",
    "#              98529: 'Product Issues/ Recall',\n",
    "#              98530: 'Analyst Recognition',\n",
    "#              98531: 'Product/ Service Enhancement',\n",
    "#              98532: 'New Product/ Service',\n",
    "#              98518: 'Financial',\n",
    "#              98519: 'Accounting Fraud',\n",
    "#              98520: 'Activist Shareholder',\n",
    "#              98521: 'Bankruptcy',\n",
    "#              98523: 'Credit Rating Update',\n",
    "#              98524: 'Financial Performance',\n",
    "#              98525: 'Insider Trading',\n",
    "#              98526: 'IPO',\n",
    "#              98527: 'Share Repurchase',\n",
    "#              98546: 'Risk & Regulatory',\n",
    "#              98547: 'Cybersecurity Incidents',\n",
    "#              98548: 'Data Breach',\n",
    "#              98549: 'Negative News',\n",
    "#              98550: 'Lawsuit/ Legal Issue',\n",
    "#              98551: 'Regulation & Policies',\n",
    "#              98552: 'Regulatory Action/ Probe',\n",
    "#              98553: 'Patent Dispute',\n",
    "#              98555: 'Patent Filing'}"
   ]
  },
  {
   "cell_type": "code",
   "execution_count": 20,
   "metadata": {},
   "outputs": [],
   "source": [
    "id_name_map = {2: 'Strategy',\n",
    " 3: 'Business Closure',\n",
    " 4: 'Business Expansion',\n",
    " 5: 'Business Reorganisation/ Restructuring',\n",
    " 6: 'Demerger/ Spin Off',\n",
    " 7: 'Leadership Changes',\n",
    " 8: 'M&A Activities',\n",
    " 9: 'Asset Buy/ Divestiture',\n",
    " 10: 'Funding Activities',\n",
    " 11: 'Capital Investment',\n",
    " 12: 'Joint Ventures',\n",
    " 14: 'Partnerships and Alliances',\n",
    " 13: 'R&D Labs/ Innovation Centers',\n",
    " 40: 'Marketing',\n",
    " 41: 'Marketing & Promotional Activities',\n",
    " 42: 'Awards & Recognitions',\n",
    " 43: 'Rebranding',\n",
    " 44: 'HR & People',\n",
    " 45: 'Hirings (Non-Leadership)',\n",
    " 46: 'Layoff',\n",
    " 47: 'Employee Related Initiative',\n",
    " 15: 'Operations',\n",
    " 16: 'Operational Performance',\n",
    " 17: 'Cost Cutting',\n",
    " 18: 'Supply Chain/ Procurement',\n",
    " 19: 'Operational Challenges',\n",
    " 20: 'Facility/ Office Closure',\n",
    " 21: 'Digital Transformation Initiative',\n",
    " 37: 'Sales',\n",
    " 38: 'Tender/ Contract Updates',\n",
    " 39: 'Pricing Changes',\n",
    " 36: 'Product Discontinuation',\n",
    " 31: 'Products/ Services',\n",
    " 32: 'Product Issues/ Recall',\n",
    " 33: 'Analyst Recognition',\n",
    " 34: 'Product/ Service Enhancement',\n",
    " 35: 'New Product/ Service',\n",
    " 22: 'Financial',\n",
    " 23: 'Accounting Fraud',\n",
    " 24: 'Activist Shareholder',\n",
    " 25: 'Bankruptcy',\n",
    " 26: 'Credit Rating Update',\n",
    " 27: 'Financial Performance',\n",
    " 28: 'Insider Trading',\n",
    " 29: 'IPO',\n",
    " 30: 'Share Repurchase',\n",
    " 48: 'Risk & Regulatory',\n",
    " 49: 'Cybersecurity Incidents',\n",
    " 50: 'Data Breach',\n",
    " 51: 'Negative News',\n",
    " 52: 'Lawsuit/ Legal Issue',\n",
    " 53: 'Regulation & Policies',\n",
    " 54: 'Regulatory Action/ Probe',\n",
    " 55: 'Patent Dispute',\n",
    " 56: 'Patent Filing'}"
   ]
  },
  {
   "cell_type": "code",
   "execution_count": 21,
   "metadata": {
    "colab": {
     "base_uri": "https://localhost:8080/"
    },
    "id": "9pmb_KzSZBNk",
    "outputId": "587a81db-d7be-477f-afb2-7230a1887366"
   },
   "outputs": [
    {
     "data": {
      "text/plain": [
       "{'New Product/ Service': 693,\n",
       " 'Leadership Changes': 1399,\n",
       " 'M&A Activities': 707,\n",
       " 'R&D Labs/ Innovation Centers': 836,\n",
       " 'Awards & Recognitions': 1723,\n",
       " 'Employee Related Initiative': 398,\n",
       " 'Capital Investment': 467,\n",
       " 'Partnerships and Alliances': 2539,\n",
       " 'Business Expansion': 830,\n",
       " 'Pricing Changes': 438,\n",
       " 'Regulation & Policies': 421,\n",
       " 'Financial Performance': 1253,\n",
       " 'Marketing & Promotional Activities': 683,\n",
       " 'Product/ Service Enhancement': 1765,\n",
       " 'Funding Activities': 693,\n",
       " 'IPO': 328,\n",
       " 'Operational Performance': 533,\n",
       " 'Lawsuit/ Legal Issue': 595,\n",
       " 'Insider Trading': 300,\n",
       " 'Accounting Fraud': 389,\n",
       " 'Layoff': 363,\n",
       " 'Cybersecurity Incidents': 535,\n",
       " 'Asset Buy/ Divestiture': 548,\n",
       " 'Digital Transformation Initiative': 408,\n",
       " 'Analyst Recognition': 465,\n",
       " 'Hirings (Non-Leadership)': 408,\n",
       " 'Regulatory Action/ Probe': 375,\n",
       " 'Business Reorganisation/ Restructuring': 365,\n",
       " 'Demerger/ Spin Off': 322,\n",
       " 'Joint Ventures': 407,\n",
       " 'Patent Filing': 330,\n",
       " 'Rebranding': 349,\n",
       " 'Credit Rating Update': 374,\n",
       " 'Business Closure': 304,\n",
       " 'Facility/ Office Closure': 419,\n",
       " 'Supply Chain/ Procurement': 522,\n",
       " 'Risk & Regulatory': 2409,\n",
       " 'Financial': 2541,\n",
       " 'Tender/ Contract Updates': 452,\n",
       " 'Data Breach': 317,\n",
       " 'Strategy': 3802,\n",
       " 'Operational Challenges': 332,\n",
       " 'Marketing': 933,\n",
       " 'Products/ Services': 1606,\n",
       " 'Patent Dispute': 315,\n",
       " 'Share Repurchase': 343,\n",
       " 'Cost Cutting': 323,\n",
       " 'Activist Shareholder': 385,\n",
       " 'Product Discontinuation': 316,\n",
       " 'Operations': 2101,\n",
       " 'HR & People': 982,\n",
       " 'Bankruptcy': 340,\n",
       " 'Product Issues/ Recall': 349,\n",
       " 'Sales': 621,\n",
       " 'Negative News': 305}"
      ]
     },
     "execution_count": 21,
     "metadata": {},
     "output_type": "execute_result"
    }
   ],
   "source": [
    "{id_name_map[t_id]:tag_count[t_id] for t_id in tag_count}"
   ]
  },
  {
   "cell_type": "code",
   "execution_count": 22,
   "metadata": {
    "colab": {
     "base_uri": "https://localhost:8080/"
    },
    "id": "eKljRkQ8ZpHH",
    "outputId": "bfae0f8b-9b43-4d47-ea17-5a2bcab290af"
   },
   "outputs": [
    {
     "data": {
      "text/plain": [
       "{2: 'Strategy',\n",
       " 3: 'Business Closure',\n",
       " 4: 'Business Expansion',\n",
       " 5: 'Business Reorganisation/ Restructuring',\n",
       " 6: 'Demerger/ Spin Off',\n",
       " 7: 'Leadership Changes',\n",
       " 8: 'M&A Activities',\n",
       " 9: 'Asset Buy/ Divestiture',\n",
       " 10: 'Funding Activities',\n",
       " 11: 'Capital Investment',\n",
       " 12: 'Joint Ventures',\n",
       " 14: 'Partnerships and Alliances',\n",
       " 13: 'R&D Labs/ Innovation Centers',\n",
       " 40: 'Marketing',\n",
       " 41: 'Marketing & Promotional Activities',\n",
       " 42: 'Awards & Recognitions',\n",
       " 43: 'Rebranding',\n",
       " 44: 'HR & People',\n",
       " 45: 'Hirings (Non-Leadership)',\n",
       " 46: 'Layoff',\n",
       " 47: 'Employee Related Initiative',\n",
       " 15: 'Operations',\n",
       " 16: 'Operational Performance',\n",
       " 17: 'Cost Cutting',\n",
       " 18: 'Supply Chain/ Procurement',\n",
       " 19: 'Operational Challenges',\n",
       " 20: 'Facility/ Office Closure',\n",
       " 21: 'Digital Transformation Initiative',\n",
       " 37: 'Sales',\n",
       " 38: 'Tender/ Contract Updates',\n",
       " 39: 'Pricing Changes',\n",
       " 36: 'Product Discontinuation',\n",
       " 31: 'Products/ Services',\n",
       " 32: 'Product Issues/ Recall',\n",
       " 33: 'Analyst Recognition',\n",
       " 34: 'Product/ Service Enhancement',\n",
       " 35: 'New Product/ Service',\n",
       " 22: 'Financial',\n",
       " 23: 'Accounting Fraud',\n",
       " 24: 'Activist Shareholder',\n",
       " 25: 'Bankruptcy',\n",
       " 26: 'Credit Rating Update',\n",
       " 27: 'Financial Performance',\n",
       " 28: 'Insider Trading',\n",
       " 29: 'IPO',\n",
       " 30: 'Share Repurchase',\n",
       " 48: 'Risk & Regulatory',\n",
       " 49: 'Cybersecurity Incidents',\n",
       " 50: 'Data Breach',\n",
       " 51: 'Negative News',\n",
       " 52: 'Lawsuit/ Legal Issue',\n",
       " 53: 'Regulation & Policies',\n",
       " 54: 'Regulatory Action/ Probe',\n",
       " 55: 'Patent Dispute',\n",
       " 56: 'Patent Filing'}"
      ]
     },
     "execution_count": 22,
     "metadata": {},
     "output_type": "execute_result"
    }
   ],
   "source": [
    "id_name_map"
   ]
  },
  {
   "cell_type": "code",
   "execution_count": 23,
   "metadata": {
    "colab": {
     "base_uri": "https://localhost:8080/",
     "height": 557
    },
    "id": "Fhq20P-fZuha",
    "outputId": "211adc04-71b0-4d0a-853c-49dc9ca449c5"
   },
   "outputs": [
    {
     "data": {
      "image/png": "[encoded data removed]",
      "text/plain": [
       "<Figure size 1500x800 with 1 Axes>"
      ]
     },
     "metadata": {},
     "output_type": "display_data"
    }
   ],
   "source": [
    "import matplotlib.pyplot as plt\n",
    "import seaborn as sns\n",
    "categories = list(tag_count.keys())\n",
    "label_count = [tag_count[c] for c in categories]\n",
    "categories = [id_name_map[c] for c in categories]\n",
    "sns.set(font_scale = 0.8)\n",
    "plt.figure(figsize=(15,8))\n",
    "ax= sns.barplot(x=categories, y=label_count)\n",
    "ax.set_xticklabels(ax.get_xticklabels(), rotation=40, ha=\"right\", fontsize=12)\n",
    "\n",
    "plt.title(\"Stories in each category\", fontsize=24)\n",
    "plt.ylabel('Number of stories', fontsize=18)\n",
    "plt.xlabel('Tag type ', fontsize=18)\n",
    "# fig = plt.figure()\n",
    "# fig.autofmt_xdate()\n",
    "#adding the text labels\n",
    "rects = ax.patches\n",
    "for rect, label in zip(rects, label_count):\n",
    "    height = rect.get_height()\n",
    "    ax.text(rect.get_x() + rect.get_width()/2, height + 5, int(height), ha='center', va='bottom', fontsize=18)\n",
    "plt.tight_layout()\n",
    "plt.show()"
   ]
  },
  {
   "cell_type": "code",
   "execution_count": 24,
   "metadata": {
    "id": "-vgO0aILZyTY"
   },
   "outputs": [],
   "source": [
    "df_all = df"
   ]
  },
  {
   "cell_type": "code",
   "execution_count": 25,
   "metadata": {
    "id": "UsKvSYpMZ09t"
   },
   "outputs": [],
   "source": [
    "df_all = df_all[~df_all['s_tags'].apply(lambda x: len(x)<1)]"
   ]
  },
  {
   "cell_type": "code",
   "execution_count": 26,
   "metadata": {
    "colab": {
     "base_uri": "https://localhost:8080/",
     "height": 557
    },
    "id": "vxSn7J8eZ4X1",
    "outputId": "bd9e31e5-1144-4da1-97bd-123e3e02f5f7"
   },
   "outputs": [
    {
     "data": {
      "image/png": "[encoded data removed]",
      "text/plain": [
       "<Figure size 1500x800 with 1 Axes>"
      ]
     },
     "metadata": {},
     "output_type": "display_data"
    }
   ],
   "source": [
    "tag_list = df_all['s_tags'].to_list()\n",
    "all_tag_list = list(chain.from_iterable(tag_list))\n",
    "# all_tag_list = [int(i.strip()) for i in all_tag_list if i]\n",
    "tag_count_all = collections.Counter(all_tag_list)\n",
    "# tag_count_all = tag_count = {k:v for k,v in tag_count_all.items() if k not in exclude_parent}\n",
    "# del all_tag_list, tag_list\n",
    "# print({id_name_map[t_id]:tag_count_all[t_id] for t_id in tag_count_all})\n",
    "categories = list(tag_count_all.keys())\n",
    "label_count = [tag_count_all[c] for c in categories]\n",
    "categories = [id_name_map[c] for c in categories]\n",
    "sns.set(font_scale = 0.8)\n",
    "plt.figure(figsize=(15,8))\n",
    "ax= sns.barplot(x=categories, y=label_count)\n",
    "ax.set_xticklabels(ax.get_xticklabels(), rotation=40, ha=\"right\", fontsize=12)\n",
    "\n",
    "plt.title(\"Stories in each category\", fontsize=24)\n",
    "plt.ylabel('Number of stories', fontsize=18)\n",
    "plt.xlabel('Tag type ', fontsize=18)\n",
    "# fig = plt.figure()\n",
    "# fig.autofmt_xdate()\n",
    "#adding the text labels\n",
    "rects = ax.patches\n",
    "for rect, label in zip(rects, label_count):\n",
    "    height = rect.get_height()\n",
    "    ax.text(rect.get_x() + rect.get_width()/2, height + 5, int(height), ha='center', va='bottom', fontsize=18)\n",
    "plt.tight_layout()\n",
    "plt.show()"
   ]
  },
  {
   "cell_type": "code",
   "execution_count": 27,
   "metadata": {
    "id": "UvAkhtVYaoVZ"
   },
   "outputs": [],
   "source": [
    "df_small = df_all[df_all['s_tags'].apply(lambda x: len(x) > 0)]"
   ]
  },
  {
   "cell_type": "code",
   "execution_count": 28,
   "metadata": {
    "colab": {
     "base_uri": "https://localhost:8080/"
    },
    "id": "j7-GJkp1awCh",
    "outputId": "4a0c2a18-1fd9-417a-d21c-5374a1e4207f"
   },
   "outputs": [
    {
     "name": "stdout",
     "output_type": "stream",
     "text": [
      "(25300, 2)\n",
      "(25300, 2)\n"
     ]
    }
   ],
   "source": [
    "print(df_small.shape)\n",
    "print(df_all.shape)"
   ]
  },
  {
   "cell_type": "code",
   "execution_count": 29,
   "metadata": {
    "id": "iWvqzgA_ayT3"
   },
   "outputs": [],
   "source": [
    "def show_count(df_count, field='s_tags'):\n",
    "    tag_list = df_count[field].to_list()\n",
    "    all_tag_list = list(chain.from_iterable(tag_list))\n",
    "    tag_count_all = collections.Counter(all_tag_list)\n",
    "    del all_tag_list, tag_list\n",
    "    # print({id_name_map[t_id]:tag_count_all[t_id] for t_id in tag_count_all})\n",
    "    categories = list(tag_count_all.keys())\n",
    "    label_count = [tag_count_all[c] for c in categories]\n",
    "    categories = [id_name_map[c] for c in categories]\n",
    "    sns.set(font_scale = 0.8)\n",
    "    plt.figure(figsize=(15,8))\n",
    "    ax= sns.barplot(categories, label_count)\n",
    "    ax.set_xticklabels(ax.get_xticklabels(), rotation=40, ha=\"right\", fontsize=12)\n",
    "\n",
    "    plt.title(\"Stories in each category\", fontsize=24)\n",
    "    plt.ylabel('Number of stories', fontsize=18)\n",
    "    plt.xlabel('Tag type ', fontsize=18)\n",
    "    # fig = plt.figure()\n",
    "    # fig.autofmt_xdate()\n",
    "    #adding the text labels\n",
    "    rects = ax.patches\n",
    "    for rect, label in zip(rects, label_count):\n",
    "        height = rect.get_height()\n",
    "        ax.text(rect.get_x() + rect.get_width()/2, height + 5, int(height), ha='center', va='bottom', fontsize=18)\n",
    "    plt.tight_layout()\n",
    "    plt.show()"
   ]
  },
  {
   "cell_type": "code",
   "execution_count": 30,
   "metadata": {
    "id": "VgbLriPfa0q2"
   },
   "outputs": [],
   "source": [
    "tag_list = df_small['s_tags'].to_list()\n",
    "all_tag_list = list(chain.from_iterable(tag_list))\n",
    "tag_count = collections.Counter(all_tag_list)\n",
    "del all_tag_list, tag_list"
   ]
  },
  {
   "cell_type": "code",
   "execution_count": 31,
   "metadata": {},
   "outputs": [
    {
     "data": {
      "text/plain": [
       "dict_items([(35, 693), (7, 1399), (8, 707), (13, 836), (42, 1723), (47, 398), (11, 467), (14, 2539), (4, 830), (39, 438), (53, 421), (27, 1253), (41, 683), (34, 1765), (10, 693), (29, 328), (16, 533), (52, 595), (28, 300), (23, 389), (46, 363), (49, 535), (9, 548), (21, 408), (33, 465), (45, 408), (54, 375), (5, 365), (6, 322), (12, 407), (56, 330), (43, 349), (26, 374), (3, 304), (20, 419), (18, 522), (48, 2409), (22, 2541), (38, 452), (50, 317), (2, 3802), (19, 332), (40, 933), (31, 1606), (55, 315), (30, 343), (17, 323), (24, 385), (36, 316), (15, 2101), (44, 982), (25, 340), (32, 349), (37, 621), (51, 305)])"
      ]
     },
     "execution_count": 31,
     "metadata": {},
     "output_type": "execute_result"
    }
   ],
   "source": [
    "tag_count.items()"
   ]
  },
  {
   "cell_type": "code",
   "execution_count": 32,
   "metadata": {},
   "outputs": [],
   "source": [
    "tags_to_delete = [23,9,26,20,5,45,21,19,16,36,53,54,38,41,34,24,25,17,18,52,6,28,43,46]\n",
    "\n",
    "tag_count = {key: value for key, value in tag_count.items() if key not in tags_to_delete}"
   ]
  },
  {
   "cell_type": "code",
   "execution_count": 33,
   "metadata": {},
   "outputs": [
    {
     "data": {
      "text/plain": [
       "dict_items([(35, 693), (7, 1399), (8, 707), (13, 836), (42, 1723), (47, 398), (11, 467), (14, 2539), (4, 830), (39, 438), (27, 1253), (10, 693), (29, 328), (49, 535), (33, 465), (12, 407), (56, 330), (3, 304), (48, 2409), (22, 2541), (50, 317), (2, 3802), (40, 933), (31, 1606), (55, 315), (30, 343), (15, 2101), (44, 982), (32, 349), (37, 621), (51, 305)])"
      ]
     },
     "execution_count": 33,
     "metadata": {},
     "output_type": "execute_result"
    }
   ],
   "source": [
    "tag_count.items()"
   ]
  },
  {
   "cell_type": "code",
   "execution_count": 34,
   "metadata": {
    "id": "8vL9AWpra5zx"
   },
   "outputs": [],
   "source": [
    "exclude_tags = [t for t, v in tag_count.items() if v < 250]"
   ]
  },
  {
   "cell_type": "code",
   "execution_count": 35,
   "metadata": {
    "colab": {
     "base_uri": "https://localhost:8080/"
    },
    "id": "C-kkC0Pda8Tc",
    "outputId": "f82d4734-203b-466d-eab8-9dffa4bbd6a6"
   },
   "outputs": [
    {
     "data": {
      "text/plain": [
       "[]"
      ]
     },
     "execution_count": 35,
     "metadata": {},
     "output_type": "execute_result"
    }
   ],
   "source": [
    "[tag_count.pop(ex_t) for ex_t in exclude_tags]"
   ]
  },
  {
   "cell_type": "code",
   "execution_count": 36,
   "metadata": {
    "id": "qOkaypGha_2b"
   },
   "outputs": [],
   "source": [
    "df_small['s_tags'] = df_small['s_tags'].apply(lambda x: list(set(x).difference(exclude_tags)))"
   ]
  },
  {
   "cell_type": "code",
   "execution_count": 37,
   "metadata": {
    "id": "52QdqYKTbIv2"
   },
   "outputs": [],
   "source": [
    "\n",
    "# df_small['text'] = (df_small['title']+\". \")*3  + (df_small['lead']+\" \") *2 + df_small['body']"
   ]
  },
  {
   "cell_type": "code",
   "execution_count": 38,
   "metadata": {
    "id": "Rh_FU-tDbNW3"
   },
   "outputs": [],
   "source": [
    "df_small['Text'] = df_small['Text'].fillna(' ')"
   ]
  },
  {
   "cell_type": "code",
   "execution_count": 39,
   "metadata": {
    "id": "GVT_pyh4bPnE"
   },
   "outputs": [],
   "source": [
    "import re\n",
    "def preprocess(text):\n",
    "    text = re.sub('^\\[(.*?)\\]', '', text)   \n",
    "    return text"
   ]
  },
  {
   "cell_type": "code",
   "execution_count": 40,
   "metadata": {
    "id": "nFQtTo6NbR3_"
   },
   "outputs": [],
   "source": [
    "u_tags = list(tag_count.keys())\n",
    "df_final = df_small[~df_small['s_tags'].apply(lambda x: len(x) < 1)]"
   ]
  },
  {
   "cell_type": "code",
   "execution_count": 41,
   "metadata": {
    "id": "Pe0aRXxLbUVG"
   },
   "outputs": [],
   "source": [
    "from sklearn.model_selection import train_test_split\n",
    "X_train, X_test, Y_train_tags, Y_test_tags = train_test_split(df_final, df_final['s_tags'], random_state=42,\n",
    "                                                              test_size=0.20)\n",
    "tag_test_count = collections.Counter(list(chain.from_iterable(Y_test_tags)))\n",
    "tag_train_count = collections.Counter(list(chain.from_iterable(Y_train_tags)))"
   ]
  },
  {
   "cell_type": "code",
   "execution_count": 42,
   "metadata": {
    "id": "ki8Tfg1FBrWG"
   },
   "outputs": [],
   "source": [
    "labels_to_train = list(tag_count.keys())"
   ]
  },
  {
   "cell_type": "code",
   "execution_count": 43,
   "metadata": {
    "colab": {
     "base_uri": "https://localhost:8080/"
    },
    "id": "D2md1U23oO7o",
    "outputId": "1add6311-a964-4b49-c61a-9d752e817939"
   },
   "outputs": [
    {
     "data": {
      "text/plain": [
       "[35,\n",
       " 7,\n",
       " 8,\n",
       " 13,\n",
       " 42,\n",
       " 47,\n",
       " 11,\n",
       " 14,\n",
       " 4,\n",
       " 39,\n",
       " 27,\n",
       " 10,\n",
       " 29,\n",
       " 49,\n",
       " 33,\n",
       " 12,\n",
       " 56,\n",
       " 3,\n",
       " 48,\n",
       " 22,\n",
       " 50,\n",
       " 2,\n",
       " 40,\n",
       " 31,\n",
       " 55,\n",
       " 30,\n",
       " 15,\n",
       " 44,\n",
       " 32,\n",
       " 37,\n",
       " 51]"
      ]
     },
     "execution_count": 43,
     "metadata": {},
     "output_type": "execute_result"
    }
   ],
   "source": [
    "list(tag_count.keys())"
   ]
  },
  {
   "cell_type": "code",
   "execution_count": 44,
   "metadata": {
    "id": "kkA8i62LbYDz"
   },
   "outputs": [],
   "source": [
    "X_train_list = []\n",
    "for index, row in X_train.iterrows():\n",
    "  l_list = []\n",
    "  # print(row[\"text\"])\n",
    "  l_list.append(row[\"Text\"])\n",
    "  for j in labels_to_train:\n",
    "    if j in row[\"s_tags\"]:\n",
    "      l_list.append(True)\n",
    "    else:\n",
    "      l_list.append(False)\n",
    "  # print(l_list)\n",
    "  X_train_list.append(l_list)"
   ]
  },
  {
   "cell_type": "code",
   "execution_count": null,
   "metadata": {
    "id": "p2wlMD7n_HPe"
   },
   "outputs": [],
   "source": []
  },
  {
   "cell_type": "code",
   "execution_count": 45,
   "metadata": {
    "id": "JGdmcFQf-blQ"
   },
   "outputs": [],
   "source": [
    "X_test_list = []\n",
    "for index, row in X_test.iterrows():\n",
    "  l_list = []\n",
    "  # print(row[\"text\"])\n",
    "  l_list.append(row[\"Text\"])\n",
    "  for j in labels_to_train:\n",
    "    if j in row[\"s_tags\"]:\n",
    "      l_list.append(True)\n",
    "    else:\n",
    "      l_list.append(False)\n",
    "  # print(l_list)\n",
    "  X_test_list.append(l_list)"
   ]
  },
  {
   "cell_type": "code",
   "execution_count": 46,
   "metadata": {
    "id": "5wTO22sufu9E"
   },
   "outputs": [],
   "source": [
    "col =[\"text\"] + labels_to_train"
   ]
  },
  {
   "cell_type": "code",
   "execution_count": 47,
   "metadata": {
    "id": "soafzHNmcNMD"
   },
   "outputs": [],
   "source": [
    "X_test_df = pd.DataFrame(X_test_list, columns=col)\n",
    "X_train_df = pd.DataFrame(X_train_list, columns=col)"
   ]
  },
  {
   "cell_type": "code",
   "execution_count": 48,
   "metadata": {},
   "outputs": [
    {
     "data": {
      "text/html": [
       "<div>\n",
       "<style scoped>\n",
       "    .dataframe tbody tr th:only-of-type {\n",
       "        vertical-align: middle;\n",
       "    }\n",
       "\n",
       "    .dataframe tbody tr th {\n",
       "        vertical-align: top;\n",
       "    }\n",
       "\n",
       "    .dataframe thead th {\n",
       "        text-align: right;\n",
       "    }\n",
       "</style>\n",
       "<table border=\"1\" class=\"dataframe\">\n",
       "  <thead>\n",
       "    <tr style=\"text-align: right;\">\n",
       "      <th></th>\n",
       "      <th>text</th>\n",
       "      <th>35</th>\n",
       "      <th>7</th>\n",
       "      <th>8</th>\n",
       "      <th>13</th>\n",
       "      <th>42</th>\n",
       "      <th>47</th>\n",
       "      <th>11</th>\n",
       "      <th>14</th>\n",
       "      <th>4</th>\n",
       "      <th>...</th>\n",
       "      <th>2</th>\n",
       "      <th>40</th>\n",
       "      <th>31</th>\n",
       "      <th>55</th>\n",
       "      <th>30</th>\n",
       "      <th>15</th>\n",
       "      <th>44</th>\n",
       "      <th>32</th>\n",
       "      <th>37</th>\n",
       "      <th>51</th>\n",
       "    </tr>\n",
       "  </thead>\n",
       "  <tbody>\n",
       "    <tr>\n",
       "      <th>0</th>\n",
       "      <td>Kaman announces discontinuation of K-MAX helic...</td>\n",
       "      <td>False</td>\n",
       "      <td>False</td>\n",
       "      <td>False</td>\n",
       "      <td>False</td>\n",
       "      <td>False</td>\n",
       "      <td>False</td>\n",
       "      <td>False</td>\n",
       "      <td>False</td>\n",
       "      <td>False</td>\n",
       "      <td>...</td>\n",
       "      <td>False</td>\n",
       "      <td>False</td>\n",
       "      <td>True</td>\n",
       "      <td>False</td>\n",
       "      <td>False</td>\n",
       "      <td>False</td>\n",
       "      <td>False</td>\n",
       "      <td>False</td>\n",
       "      <td>False</td>\n",
       "      <td>False</td>\n",
       "    </tr>\n",
       "    <tr>\n",
       "      <th>1</th>\n",
       "      <td>Samsung Electronics To Host AI Forum 2023 High...</td>\n",
       "      <td>False</td>\n",
       "      <td>False</td>\n",
       "      <td>False</td>\n",
       "      <td>False</td>\n",
       "      <td>False</td>\n",
       "      <td>False</td>\n",
       "      <td>False</td>\n",
       "      <td>False</td>\n",
       "      <td>False</td>\n",
       "      <td>...</td>\n",
       "      <td>False</td>\n",
       "      <td>False</td>\n",
       "      <td>False</td>\n",
       "      <td>False</td>\n",
       "      <td>False</td>\n",
       "      <td>False</td>\n",
       "      <td>False</td>\n",
       "      <td>False</td>\n",
       "      <td>False</td>\n",
       "      <td>False</td>\n",
       "    </tr>\n",
       "    <tr>\n",
       "      <th>2</th>\n",
       "      <td>Shell and Microsoft collaborate on digital ski...</td>\n",
       "      <td>False</td>\n",
       "      <td>False</td>\n",
       "      <td>False</td>\n",
       "      <td>False</td>\n",
       "      <td>False</td>\n",
       "      <td>False</td>\n",
       "      <td>False</td>\n",
       "      <td>True</td>\n",
       "      <td>False</td>\n",
       "      <td>...</td>\n",
       "      <td>True</td>\n",
       "      <td>False</td>\n",
       "      <td>False</td>\n",
       "      <td>False</td>\n",
       "      <td>False</td>\n",
       "      <td>False</td>\n",
       "      <td>False</td>\n",
       "      <td>False</td>\n",
       "      <td>False</td>\n",
       "      <td>False</td>\n",
       "    </tr>\n",
       "    <tr>\n",
       "      <th>3</th>\n",
       "      <td>S&amp;P Drops WeWork’s Credit Rating, Again What’s...</td>\n",
       "      <td>False</td>\n",
       "      <td>False</td>\n",
       "      <td>False</td>\n",
       "      <td>False</td>\n",
       "      <td>False</td>\n",
       "      <td>False</td>\n",
       "      <td>False</td>\n",
       "      <td>False</td>\n",
       "      <td>False</td>\n",
       "      <td>...</td>\n",
       "      <td>False</td>\n",
       "      <td>False</td>\n",
       "      <td>False</td>\n",
       "      <td>False</td>\n",
       "      <td>False</td>\n",
       "      <td>False</td>\n",
       "      <td>False</td>\n",
       "      <td>False</td>\n",
       "      <td>False</td>\n",
       "      <td>False</td>\n",
       "    </tr>\n",
       "    <tr>\n",
       "      <th>4</th>\n",
       "      <td>Tegna Buyout Shelved by FCC Order Sending Deal...</td>\n",
       "      <td>False</td>\n",
       "      <td>False</td>\n",
       "      <td>False</td>\n",
       "      <td>False</td>\n",
       "      <td>False</td>\n",
       "      <td>False</td>\n",
       "      <td>False</td>\n",
       "      <td>False</td>\n",
       "      <td>False</td>\n",
       "      <td>...</td>\n",
       "      <td>False</td>\n",
       "      <td>False</td>\n",
       "      <td>False</td>\n",
       "      <td>False</td>\n",
       "      <td>False</td>\n",
       "      <td>False</td>\n",
       "      <td>False</td>\n",
       "      <td>False</td>\n",
       "      <td>True</td>\n",
       "      <td>False</td>\n",
       "    </tr>\n",
       "    <tr>\n",
       "      <th>...</th>\n",
       "      <td>...</td>\n",
       "      <td>...</td>\n",
       "      <td>...</td>\n",
       "      <td>...</td>\n",
       "      <td>...</td>\n",
       "      <td>...</td>\n",
       "      <td>...</td>\n",
       "      <td>...</td>\n",
       "      <td>...</td>\n",
       "      <td>...</td>\n",
       "      <td>...</td>\n",
       "      <td>...</td>\n",
       "      <td>...</td>\n",
       "      <td>...</td>\n",
       "      <td>...</td>\n",
       "      <td>...</td>\n",
       "      <td>...</td>\n",
       "      <td>...</td>\n",
       "      <td>...</td>\n",
       "      <td>...</td>\n",
       "      <td>...</td>\n",
       "    </tr>\n",
       "    <tr>\n",
       "      <th>20235</th>\n",
       "      <td>MOG Unveils its New Brand Identity &amp; Positioni...</td>\n",
       "      <td>False</td>\n",
       "      <td>False</td>\n",
       "      <td>False</td>\n",
       "      <td>False</td>\n",
       "      <td>False</td>\n",
       "      <td>False</td>\n",
       "      <td>False</td>\n",
       "      <td>False</td>\n",
       "      <td>False</td>\n",
       "      <td>...</td>\n",
       "      <td>False</td>\n",
       "      <td>True</td>\n",
       "      <td>False</td>\n",
       "      <td>False</td>\n",
       "      <td>False</td>\n",
       "      <td>False</td>\n",
       "      <td>False</td>\n",
       "      <td>False</td>\n",
       "      <td>False</td>\n",
       "      <td>False</td>\n",
       "    </tr>\n",
       "    <tr>\n",
       "      <th>20236</th>\n",
       "      <td>Victor DeStefano Named President of Empire Blu...</td>\n",
       "      <td>False</td>\n",
       "      <td>True</td>\n",
       "      <td>False</td>\n",
       "      <td>False</td>\n",
       "      <td>False</td>\n",
       "      <td>False</td>\n",
       "      <td>False</td>\n",
       "      <td>False</td>\n",
       "      <td>False</td>\n",
       "      <td>...</td>\n",
       "      <td>False</td>\n",
       "      <td>False</td>\n",
       "      <td>False</td>\n",
       "      <td>False</td>\n",
       "      <td>False</td>\n",
       "      <td>False</td>\n",
       "      <td>False</td>\n",
       "      <td>False</td>\n",
       "      <td>False</td>\n",
       "      <td>False</td>\n",
       "    </tr>\n",
       "    <tr>\n",
       "      <th>20237</th>\n",
       "      <td>U.S. Chamber of Commerce Announces America’s T...</td>\n",
       "      <td>False</td>\n",
       "      <td>False</td>\n",
       "      <td>False</td>\n",
       "      <td>False</td>\n",
       "      <td>True</td>\n",
       "      <td>False</td>\n",
       "      <td>False</td>\n",
       "      <td>False</td>\n",
       "      <td>False</td>\n",
       "      <td>...</td>\n",
       "      <td>False</td>\n",
       "      <td>False</td>\n",
       "      <td>False</td>\n",
       "      <td>False</td>\n",
       "      <td>False</td>\n",
       "      <td>False</td>\n",
       "      <td>False</td>\n",
       "      <td>False</td>\n",
       "      <td>False</td>\n",
       "      <td>False</td>\n",
       "    </tr>\n",
       "    <tr>\n",
       "      <th>20238</th>\n",
       "      <td>GM Files Patent For Self-Cleaning LED Displays...</td>\n",
       "      <td>False</td>\n",
       "      <td>False</td>\n",
       "      <td>False</td>\n",
       "      <td>False</td>\n",
       "      <td>False</td>\n",
       "      <td>False</td>\n",
       "      <td>False</td>\n",
       "      <td>False</td>\n",
       "      <td>False</td>\n",
       "      <td>...</td>\n",
       "      <td>False</td>\n",
       "      <td>False</td>\n",
       "      <td>False</td>\n",
       "      <td>False</td>\n",
       "      <td>False</td>\n",
       "      <td>False</td>\n",
       "      <td>False</td>\n",
       "      <td>False</td>\n",
       "      <td>False</td>\n",
       "      <td>False</td>\n",
       "    </tr>\n",
       "    <tr>\n",
       "      <th>20239</th>\n",
       "      <td>N.B. shell-drying facility responds to plant c...</td>\n",
       "      <td>False</td>\n",
       "      <td>False</td>\n",
       "      <td>False</td>\n",
       "      <td>False</td>\n",
       "      <td>False</td>\n",
       "      <td>False</td>\n",
       "      <td>False</td>\n",
       "      <td>False</td>\n",
       "      <td>False</td>\n",
       "      <td>...</td>\n",
       "      <td>True</td>\n",
       "      <td>False</td>\n",
       "      <td>False</td>\n",
       "      <td>False</td>\n",
       "      <td>False</td>\n",
       "      <td>True</td>\n",
       "      <td>False</td>\n",
       "      <td>False</td>\n",
       "      <td>False</td>\n",
       "      <td>False</td>\n",
       "    </tr>\n",
       "  </tbody>\n",
       "</table>\n",
       "<p>20240 rows × 32 columns</p>\n",
       "</div>"
      ],
      "text/plain": [
       "                                                    text     35      7      8  \\\n",
       "0      Kaman announces discontinuation of K-MAX helic...  False  False  False   \n",
       "1      Samsung Electronics To Host AI Forum 2023 High...  False  False  False   \n",
       "2      Shell and Microsoft collaborate on digital ski...  False  False  False   \n",
       "3      S&P Drops WeWork’s Credit Rating, Again What’s...  False  False  False   \n",
       "4      Tegna Buyout Shelved by FCC Order Sending Deal...  False  False  False   \n",
       "...                                                  ...    ...    ...    ...   \n",
       "20235  MOG Unveils its New Brand Identity & Positioni...  False  False  False   \n",
       "20236  Victor DeStefano Named President of Empire Blu...  False   True  False   \n",
       "20237  U.S. Chamber of Commerce Announces America’s T...  False  False  False   \n",
       "20238  GM Files Patent For Self-Cleaning LED Displays...  False  False  False   \n",
       "20239  N.B. shell-drying facility responds to plant c...  False  False  False   \n",
       "\n",
       "          13     42     47     11     14      4  ...      2     40     31  \\\n",
       "0      False  False  False  False  False  False  ...  False  False   True   \n",
       "1      False  False  False  False  False  False  ...  False  False  False   \n",
       "2      False  False  False  False   True  False  ...   True  False  False   \n",
       "3      False  False  False  False  False  False  ...  False  False  False   \n",
       "4      False  False  False  False  False  False  ...  False  False  False   \n",
       "...      ...    ...    ...    ...    ...    ...  ...    ...    ...    ...   \n",
       "20235  False  False  False  False  False  False  ...  False   True  False   \n",
       "20236  False  False  False  False  False  False  ...  False  False  False   \n",
       "20237  False   True  False  False  False  False  ...  False  False  False   \n",
       "20238  False  False  False  False  False  False  ...  False  False  False   \n",
       "20239  False  False  False  False  False  False  ...   True  False  False   \n",
       "\n",
       "          55     30     15     44     32     37     51  \n",
       "0      False  False  False  False  False  False  False  \n",
       "1      False  False  False  False  False  False  False  \n",
       "2      False  False  False  False  False  False  False  \n",
       "3      False  False  False  False  False  False  False  \n",
       "4      False  False  False  False  False   True  False  \n",
       "...      ...    ...    ...    ...    ...    ...    ...  \n",
       "20235  False  False  False  False  False  False  False  \n",
       "20236  False  False  False  False  False  False  False  \n",
       "20237  False  False  False  False  False  False  False  \n",
       "20238  False  False  False  False  False  False  False  \n",
       "20239  False  False   True  False  False  False  False  \n",
       "\n",
       "[20240 rows x 32 columns]"
      ]
     },
     "execution_count": 48,
     "metadata": {},
     "output_type": "execute_result"
    }
   ],
   "source": [
    "X_train_df"
   ]
  },
  {
   "cell_type": "code",
   "execution_count": 49,
   "metadata": {
    "colab": {
     "base_uri": "https://localhost:8080/"
    },
    "id": "jvZPUpuEAPt4",
    "outputId": "bbadbadb-9994-4e81-f5ab-25513afab780"
   },
   "outputs": [
    {
     "name": "stderr",
     "output_type": "stream",
     "text": [
      "/home/asim/.pyenv/versions/3.7.17/envs/aws/lib/python3.7/site-packages/datasets/table.py:761: UserWarning: The DataFrame has column names of mixed type. They will be converted to strings and not roundtrip correctly.\n",
      "  return cls(pa.Table.from_pandas(*args, **kwargs))\n"
     ]
    }
   ],
   "source": [
    "# !pip install datasets\n",
    "import datasets\n",
    "import pandas as pd\n",
    "\n",
    "train_dataset = datasets.Dataset.from_pandas(X_train_df)\n",
    "test_dataset = datasets.Dataset.from_pandas(X_test_df)\n",
    "my_dataset_dict = datasets.DatasetDict({\"train\":train_dataset,\"test\":test_dataset})"
   ]
  },
  {
   "cell_type": "code",
   "execution_count": 50,
   "metadata": {},
   "outputs": [],
   "source": [
    "import datasets"
   ]
  },
  {
   "cell_type": "code",
   "execution_count": 51,
   "metadata": {
    "colab": {
     "base_uri": "https://localhost:8080/"
    },
    "id": "cdpSnoehCGTM",
    "outputId": "55f16b89-a2bc-48ae-a177-eb384ccabac7"
   },
   "outputs": [
    {
     "data": {
      "text/plain": [
       "['35',\n",
       " '7',\n",
       " '8',\n",
       " '13',\n",
       " '42',\n",
       " '47',\n",
       " '11',\n",
       " '14',\n",
       " '4',\n",
       " '39',\n",
       " '27',\n",
       " '10',\n",
       " '29',\n",
       " '49',\n",
       " '33',\n",
       " '12',\n",
       " '56',\n",
       " '3',\n",
       " '48',\n",
       " '22',\n",
       " '50',\n",
       " '2',\n",
       " '40',\n",
       " '31',\n",
       " '55',\n",
       " '30',\n",
       " '15',\n",
       " '44',\n",
       " '32',\n",
       " '37',\n",
       " '51']"
      ]
     },
     "execution_count": 51,
     "metadata": {},
     "output_type": "execute_result"
    }
   ],
   "source": [
    "labels = [label for label in my_dataset_dict['train'].features.keys() if label not in ['ID', 'text']]\n",
    "id2label = {idx:label for idx, label in enumerate(labels)}\n",
    "label2id = {label:idx for idx, label in enumerate(labels)}\n",
    "labels"
   ]
  },
  {
   "cell_type": "code",
   "execution_count": 52,
   "metadata": {
    "colab": {
     "base_uri": "https://localhost:8080/",
     "height": 145,
     "referenced_widgets": [
      "ae04c9cd4c5048efb770a812517b15e4",
      "f2a2135876444c3ebf050c62950eac1b",
      "fe83b22e736642ac8309922fbea61a99",
      "78ab144d503643f69d73122f1b9c8407",
      "a1f79e17de194da29e71f836a8085e1e",
      "c123bcad20a74f6dbb90c6adfe64a0b5",
      "1f0d5af6cbc44b5fb8cb30ea186317ee",
      "e44817f3250641adb454aa6482c370c2",
      "95e83f5b17924abdb609e965889e829c",
      "8a330b7a1346475fa2d76ec823be4fe3",
      "b2fcc2290b7f4be4a06ad4cfa475e6ec",
      "dbd15e24b6bb460fbf7a885717365dd2",
      "80801f32921c4d7f940205d3da587e47",
      "a3c3a54bfe6743f8b74e6c4d46403994",
      "45fd293af91b4dcf89ae221b657518c8",
      "c20e0a51b34b4e7785e4c8e81ca2c72a",
      "203954f885164e12bfcfbe7f6b40d315",
      "fa8b2a7c34784e86b3614bb803c1208a",
      "37ad8d33e367413cbbcbffd6d3465e1c",
      "a9c83687e80145088c548b1a4f38bf2c",
      "e72204ca01974a3384d10c5a6d0997f9",
      "bc3cc9d419c3480faa1286f3d9338d4c",
      "5a6f9c1dfb584ba28d5fd9618f9910d6",
      "8e32ec714f4f4f249cc90991970a1c11",
      "ecfcaf23c1314127a9b9bb824d129e91",
      "97f0da4fcefa46e4bab8e1aefd347eaf",
      "452cf611d3e14eb0a0909d606fdc55a9",
      "3b577ec919564739bfe7b1d95e0668b9",
      "a440e512899b4a35bc8a360e4a9397f0",
      "e4f8dd676bf847a78ae6dc8e008a031a",
      "0366ba487dea4693879e514b757ef832",
      "cddd7a4c593d44ba8c27a4abc2609887",
      "7cb35e1431664073a2ef1044f2ad99cb",
      "a172d42dc44d45d4b1437145c8369111",
      "c53079536e44489ea8379b588d4ced89",
      "42ed6c08aecd4e77958df839845306af",
      "2418f5ca65b34d5f957f1115db4a04e9",
      "f268413e2f4747ec9a0108ae8128f138",
      "26d8f845288746e996160df8f81c531a",
      "ba909e6707e3470098dbbaafcbc16d9c",
      "0077158caedd4388b4c9f84a381ad42a",
      "99eff06a36a043a4a8f56f59dec8eba0",
      "266c2556d47c497a83826d1a31d58fb5",
      "0978ac61b1df4a9fa835a04b08ca675f"
     ]
    },
    "id": "Wf785jZib4jo",
    "outputId": "0a73ee70-506c-48db-e705-48ba1826e8ef"
   },
   "outputs": [],
   "source": [
    "from transformers import AutoTokenizer\n",
    "import numpy as np\n",
    "\n",
    "tokenizer = AutoTokenizer.from_pretrained(\"bert-base-uncased\")\n",
    "\n",
    "def preprocess_data(examples):\n",
    "  # take a batch of texts\n",
    "  text = examples[\"text\"]\n",
    "  # encode them\n",
    "  encoding = tokenizer(text, padding=\"max_length\", truncation=True, max_length=128)\n",
    "  # add labels\n",
    "  labels_batch = {k: examples[k] for k in examples.keys() if k in labels}\n",
    "  # create numpy array of shape (batch_size, num_labels)\n",
    "  labels_matrix = np.zeros((len(text), len(labels)))\n",
    "  # fill numpy array\n",
    "  for idx, label in enumerate(labels):\n",
    "    labels_matrix[:, idx] = labels_batch[label]\n",
    "\n",
    "  encoding[\"labels\"] = labels_matrix.tolist()\n",
    "  \n",
    "  return encoding"
   ]
  },
  {
   "cell_type": "code",
   "execution_count": 53,
   "metadata": {
    "scrolled": true
   },
   "outputs": [],
   "source": [
    "# !pip uninstall dill0==3.1.1"
   ]
  },
  {
   "cell_type": "code",
   "execution_count": 54,
   "metadata": {},
   "outputs": [],
   "source": [
    "# !pip install dill==0.3.1.1"
   ]
  },
  {
   "cell_type": "code",
   "execution_count": 55,
   "metadata": {
    "colab": {
     "base_uri": "https://localhost:8080/",
     "height": 118,
     "referenced_widgets": [
      "aad00aef6450427182e95ee46a3ec7cd",
      "501a9c5fe0a54123afef0a6d18e40bcd",
      "00f6e9d245d8410ba6737a017903b85d",
      "5ddf0ab8287c4d09bcaa577153849572",
      "88be066bd25b402b8b6ebb32b3751c41",
      "031c38c41fbd4cb7ba4e215e929f4c96",
      "a6d09fa0bbaa4340b80359a57b69e7a9",
      "943c216a0be64492a8dbdc3dd60e9305",
      "8db274724b4c4e89994ff720fa1e1be6",
      "0a989c2a4f6640f782aba600ac346123",
      "170ca7aa86d446759234bc1e3fec1b4d",
      "d52a242b477349b29dd2884febe8ee03",
      "67fccbe89254435e98b8960ee9b1e8f6",
      "385c6fd77ace4065a2925867f7c1c9e4",
      "880fcb4742b04d34aac4fae31c6d4ba5",
      "13e4b7d64a54486cb09624b659e54903",
      "60ab73e022174e9a837b8af9fda2c3a1",
      "d223286d2baf4892a092c4c0e1d1e919",
      "d16505c1df114ea8832eacd622254c3d",
      "bc67325d798b453689191518a4d77af7",
      "b1132224ac20405cb6157ebd1ea35b3f",
      "6ae3211e6dab4a799dfa8ad2102293b9"
     ]
    },
    "id": "oCBVx5DPglp1",
    "outputId": "b3f52e5f-7542-45f4-ef32-cd73a4bf4858"
   },
   "outputs": [
    {
     "data": {
      "application/vnd.jupyter.widget-view+json": {
       "model_id": "",
       "version_major": 2,
       "version_minor": 0
      },
      "text/plain": [
       "Map:   0%|          | 0/20240 [00:00<?, ? examples/s]"
      ]
     },
     "metadata": {},
     "output_type": "display_data"
    },
    {
     "data": {
      "application/vnd.jupyter.widget-view+json": {
       "model_id": "",
       "version_major": 2,
       "version_minor": 0
      },
      "text/plain": [
       "Map:   0%|          | 0/5060 [00:00<?, ? examples/s]"
      ]
     },
     "metadata": {},
     "output_type": "display_data"
    }
   ],
   "source": [
    "encoded_dataset = my_dataset_dict.map(preprocess_data, batched=True, remove_columns=my_dataset_dict['train'].column_names)"
   ]
  },
  {
   "cell_type": "code",
   "execution_count": 56,
   "metadata": {},
   "outputs": [],
   "source": [
    "# !pip install protobuf==3.20"
   ]
  },
  {
   "cell_type": "code",
   "execution_count": 57,
   "metadata": {
    "colab": {
     "base_uri": "https://localhost:8080/"
    },
    "id": "0crn1Yi5EXhU",
    "outputId": "8b44ecb4-f342-4ca8-aeb2-217a896f1a74"
   },
   "outputs": [
    {
     "name": "stdout",
     "output_type": "stream",
     "text": [
      "dict_keys(['input_ids', 'token_type_ids', 'attention_mask', 'labels'])\n"
     ]
    }
   ],
   "source": [
    "example = encoded_dataset['train'][0]\n",
    "print(example.keys())"
   ]
  },
  {
   "cell_type": "code",
   "execution_count": 58,
   "metadata": {
    "colab": {
     "base_uri": "https://localhost:8080/",
     "height": 140
    },
    "id": "SI5EeSQdEdFP",
    "outputId": "1c9c27f1-535e-41b8-fefc-e442efc588de"
   },
   "outputs": [
    {
     "data": {
      "text/plain": [
       "'[CLS] kaman announces discontinuation of k - max helicopter 2022 giving guide this special edition informs and connects businesses with nonprofit organizations that are aligned with what they care about. each nonprofit profile provides a crisp snapshot of the organization ’ s mission, goals, area of service, giving and volunteer opportunities and board leadership. [SEP] [PAD] [PAD] [PAD] [PAD] [PAD] [PAD] [PAD] [PAD] [PAD] [PAD] [PAD] [PAD] [PAD] [PAD] [PAD] [PAD] [PAD] [PAD] [PAD] [PAD] [PAD] [PAD] [PAD] [PAD] [PAD] [PAD] [PAD] [PAD] [PAD] [PAD] [PAD] [PAD] [PAD] [PAD] [PAD] [PAD] [PAD] [PAD] [PAD] [PAD] [PAD] [PAD] [PAD] [PAD] [PAD] [PAD] [PAD] [PAD] [PAD] [PAD] [PAD] [PAD] [PAD] [PAD] [PAD] [PAD] [PAD] [PAD] [PAD] [PAD] [PAD] [PAD]'"
      ]
     },
     "execution_count": 58,
     "metadata": {},
     "output_type": "execute_result"
    }
   ],
   "source": [
    "tokenizer.decode(example['input_ids'])"
   ]
  },
  {
   "cell_type": "code",
   "execution_count": 59,
   "metadata": {
    "colab": {
     "base_uri": "https://localhost:8080/"
    },
    "id": "IzlUjI3oEpJn",
    "outputId": "390ee852-9fde-410d-caad-cc6608d3a72f"
   },
   "outputs": [
    {
     "data": {
      "text/plain": [
       "[0.0,\n",
       " 0.0,\n",
       " 0.0,\n",
       " 0.0,\n",
       " 0.0,\n",
       " 0.0,\n",
       " 0.0,\n",
       " 0.0,\n",
       " 0.0,\n",
       " 0.0,\n",
       " 0.0,\n",
       " 0.0,\n",
       " 0.0,\n",
       " 0.0,\n",
       " 0.0,\n",
       " 0.0,\n",
       " 0.0,\n",
       " 0.0,\n",
       " 0.0,\n",
       " 0.0,\n",
       " 0.0,\n",
       " 0.0,\n",
       " 0.0,\n",
       " 1.0,\n",
       " 0.0,\n",
       " 0.0,\n",
       " 0.0,\n",
       " 0.0,\n",
       " 0.0,\n",
       " 0.0,\n",
       " 0.0]"
      ]
     },
     "execution_count": 59,
     "metadata": {},
     "output_type": "execute_result"
    }
   ],
   "source": [
    "\n",
    "example['labels']"
   ]
  },
  {
   "cell_type": "code",
   "execution_count": 60,
   "metadata": {
    "colab": {
     "base_uri": "https://localhost:8080/"
    },
    "id": "1pX8Wt0nFAh9",
    "outputId": "853a6c83-a91c-45e5-c9a9-579b0d2ab1d4"
   },
   "outputs": [
    {
     "data": {
      "text/plain": [
       "['31']"
      ]
     },
     "execution_count": 60,
     "metadata": {},
     "output_type": "execute_result"
    }
   ],
   "source": [
    "[id2label[idx] for idx, label in enumerate(example['labels']) if label == 1.0]"
   ]
  },
  {
   "cell_type": "code",
   "execution_count": 61,
   "metadata": {
    "id": "Pw_XRu2yFIJG"
   },
   "outputs": [],
   "source": [
    "encoded_dataset.set_format(\"torch\")"
   ]
  },
  {
   "cell_type": "code",
   "execution_count": 62,
   "metadata": {
    "colab": {
     "base_uri": "https://localhost:8080/",
     "height": 156,
     "referenced_widgets": [
      "25b76a0cacc24e8b9e87f10142bb7d03",
      "64dffd2bc99042afbb7e5fb5ee671dab",
      "845131fdbaaf4d7281b06f6507334302",
      "017481ed89f94fa8ae1922f5c1aae6a6",
      "1f73515c98e74897835094efab3a9a0a",
      "a1b781ee60534ef585d77700b4416c41",
      "6300263627a84bfea0c355d4bca920a5",
      "5ae17cbcb2a5488e88e3160a8f3a7505",
      "e14eff0c75394851ac2224c383601b84",
      "1513baed8f5940c487959d78a8590fe8",
      "b24ce3cec22c47c79da1ec2a62ca3d1d"
     ]
    },
    "id": "i9tBjHD0FMHp",
    "outputId": "c05ff77b-38db-4999-a651-7c800cf60a64"
   },
   "outputs": [
    {
     "name": "stderr",
     "output_type": "stream",
     "text": [
      "Some weights of the model checkpoint at bert-base-uncased were not used when initializing BertForSequenceClassification: ['cls.predictions.transform.LayerNorm.bias', 'cls.predictions.bias', 'cls.seq_relationship.weight', 'cls.seq_relationship.bias', 'cls.predictions.transform.dense.bias', 'cls.predictions.transform.dense.weight', 'cls.predictions.transform.LayerNorm.weight']\n",
      "- This IS expected if you are initializing BertForSequenceClassification from the checkpoint of a model trained on another task or with another architecture (e.g. initializing a BertForSequenceClassification model from a BertForPreTraining model).\n",
      "- This IS NOT expected if you are initializing BertForSequenceClassification from the checkpoint of a model that you expect to be exactly identical (initializing a BertForSequenceClassification model from a BertForSequenceClassification model).\n",
      "Some weights of BertForSequenceClassification were not initialized from the model checkpoint at bert-base-uncased and are newly initialized: ['classifier.weight', 'classifier.bias']\n",
      "You should probably TRAIN this model on a down-stream task to be able to use it for predictions and inference.\n"
     ]
    }
   ],
   "source": [
    "from transformers import AutoModelForSequenceClassification\n",
    "# from transformers import RobertaTokenizer\n",
    "\n",
    "model = AutoModelForSequenceClassification.from_pretrained(\"bert-base-uncased\", \n",
    "                                                           problem_type=\"multi_label_classification\", \n",
    "                                                           num_labels=len(labels),\n",
    "                                                           id2label=id2label,\n",
    "                                                           label2id=label2id)"
   ]
  },
  {
   "cell_type": "code",
   "execution_count": 63,
   "metadata": {
    "id": "igxzvMq-FUls"
   },
   "outputs": [],
   "source": [
    "batch_size = 2\n",
    "metric_name = \"f1\""
   ]
  },
  {
   "cell_type": "code",
   "execution_count": 64,
   "metadata": {
    "id": "EzikRhe4FZpg"
   },
   "outputs": [],
   "source": [
    "from transformers import TrainingArguments, Trainer\n",
    "\n",
    "\n",
    "args = TrainingArguments(\n",
    "    f\"be-10-dec-sem_eval-english\",\n",
    "    evaluation_strategy = \"epoch\",\n",
    "    save_strategy = \"epoch\",\n",
    "    learning_rate=2e-5,\n",
    "    per_device_train_batch_size=batch_size,\n",
    "    per_device_eval_batch_size=batch_size,\n",
    "    num_train_epochs=10,\n",
    "    weight_decay=0.01,\n",
    "    load_best_model_at_end=True,\n",
    "    metric_for_best_model=metric_name,\n",
    "    #push_to_hub=True,\n",
    ")"
   ]
  },
  {
   "cell_type": "code",
   "execution_count": 65,
   "metadata": {
    "id": "e8Rshdf2FbDW"
   },
   "outputs": [],
   "source": [
    "from sklearn.metrics import f1_score, roc_auc_score, accuracy_score\n",
    "from transformers import EvalPrediction\n",
    "import torch\n",
    "    \n",
    "# source: https://jesusleal.io/2021/04/21/Longformer-multilabel-classification/\n",
    "def multi_label_metrics(predictions, labels, threshold=0.5):\n",
    "    # first, apply sigmoid on predictions which are of shape (batch_size, num_labels)\n",
    "    sigmoid = torch.nn.Sigmoid()\n",
    "    probs = sigmoid(torch.Tensor(predictions))\n",
    "    # next, use threshold to turn them into integer predictions\n",
    "    y_pred = np.zeros(probs.shape)\n",
    "    y_pred[np.where(probs >= threshold)] = 1\n",
    "    # finally, compute metrics\n",
    "    y_true = labels\n",
    "    f1_micro_average = f1_score(y_true=y_true, y_pred=y_pred, average='micro')\n",
    "    roc_auc = roc_auc_score(y_true, y_pred, average = 'micro')\n",
    "    accuracy = accuracy_score(y_true, y_pred)\n",
    "    # return as dictionary\n",
    "    metrics = {'f1': f1_micro_average,\n",
    "               'roc_auc': roc_auc,\n",
    "               'accuracy': accuracy}\n",
    "    return metrics\n",
    "\n",
    "def compute_metrics(p: EvalPrediction):\n",
    "    preds = p.predictions[0] if isinstance(p.predictions, \n",
    "            tuple) else p.predictions\n",
    "    result = multi_label_metrics(\n",
    "        predictions=preds, \n",
    "        labels=p.label_ids)\n",
    "    return result"
   ]
  },
  {
   "cell_type": "code",
   "execution_count": 66,
   "metadata": {
    "colab": {
     "base_uri": "https://localhost:8080/",
     "height": 35
    },
    "id": "38LmWnA1Flbk",
    "outputId": "c7ec37ed-276e-41ce-b436-a99727f51694"
   },
   "outputs": [
    {
     "data": {
      "text/plain": [
       "'torch.FloatTensor'"
      ]
     },
     "execution_count": 66,
     "metadata": {},
     "output_type": "execute_result"
    }
   ],
   "source": [
    "encoded_dataset['train'][0]['labels'].type()"
   ]
  },
  {
   "cell_type": "code",
   "execution_count": 67,
   "metadata": {
    "colab": {
     "base_uri": "https://localhost:8080/"
    },
    "id": "GzaF7tK8FsLN",
    "outputId": "c7b9db31-e837-412c-ec3b-e271be26b910"
   },
   "outputs": [
    {
     "data": {
      "text/plain": [
       "tensor([  101, 27829,  2319, 17472, 12532, 16778, 11231,  3370,  1997,  1047,\n",
       "         1011,  4098,  7739, 16798,  2475,  3228,  5009,  2023,  2569,  3179,\n",
       "        15670,  1998,  8539,  5661,  2007, 14495,  4411,  2008,  2024, 13115,\n",
       "         2007,  2054,  2027,  2729,  2055,  1012,  2169, 14495,  6337,  3640,\n",
       "         1037, 15594, 20057, 12326,  1997,  1996,  3029,  1521,  1055,  3260,\n",
       "         1010,  3289,  1010,  2181,  1997,  2326,  1010,  3228,  1998,  6951,\n",
       "         6695,  1998,  2604,  4105,  1012,   102,     0,     0,     0,     0,\n",
       "            0,     0,     0,     0,     0,     0,     0,     0,     0,     0,\n",
       "            0,     0,     0,     0,     0,     0,     0,     0,     0,     0,\n",
       "            0,     0,     0,     0,     0,     0,     0,     0,     0,     0,\n",
       "            0,     0,     0,     0,     0,     0,     0,     0,     0,     0,\n",
       "            0,     0,     0,     0,     0,     0,     0,     0,     0,     0,\n",
       "            0,     0,     0,     0,     0,     0,     0,     0])"
      ]
     },
     "execution_count": 67,
     "metadata": {},
     "output_type": "execute_result"
    }
   ],
   "source": [
    "encoded_dataset['train']['input_ids'][0]"
   ]
  },
  {
   "cell_type": "code",
   "execution_count": 68,
   "metadata": {
    "colab": {
     "base_uri": "https://localhost:8080/"
    },
    "id": "0xI-cmi3F1VY",
    "outputId": "c36bde0e-2d14-472f-8376-df90d971213c"
   },
   "outputs": [
    {
     "data": {
      "text/plain": [
       "SequenceClassifierOutput(loss=tensor(0.6605, grad_fn=<BinaryCrossEntropyWithLogitsBackward0>), logits=tensor([[-0.3754,  0.1631, -0.0346, -0.4847,  0.2545, -0.4193,  0.2105,  0.1688,\n",
       "          0.3108, -0.2383, -0.5488, -0.0900, -0.1311, -0.3403,  0.4446,  0.0268,\n",
       "          0.1760, -0.0253, -0.1483, -0.1222, -0.2227, -0.0910, -0.0760,  0.1971,\n",
       "          0.0961,  0.6410, -0.3166, -0.7640, -0.0934,  0.1981, -0.8836]],\n",
       "       grad_fn=<AddmmBackward0>), hidden_states=None, attentions=None)"
      ]
     },
     "execution_count": 68,
     "metadata": {},
     "output_type": "execute_result"
    }
   ],
   "source": [
    "#forward pass\n",
    "outputs = model(input_ids=encoded_dataset['train']['input_ids'][0].unsqueeze(0), labels=encoded_dataset['train'][0]['labels'].unsqueeze(0))\n",
    "outputs"
   ]
  },
  {
   "cell_type": "code",
   "execution_count": 69,
   "metadata": {
    "id": "RoZPKpboF6Rf"
   },
   "outputs": [],
   "source": [
    "trainer = Trainer(\n",
    "    model,\n",
    "    args,\n",
    "    train_dataset=encoded_dataset[\"train\"],\n",
    "    eval_dataset=encoded_dataset[\"test\"],\n",
    "    tokenizer=tokenizer,\n",
    "    compute_metrics=compute_metrics\n",
    ")"
   ]
  },
  {
   "cell_type": "code",
   "execution_count": 70,
   "metadata": {
    "colab": {
     "base_uri": "https://localhost:8080/",
     "height": 1000
    },
    "id": "-Fj54PZLF_Yw",
    "outputId": "f1ed511f-f443-4948-b18d-7a3f80577aa4",
    "scrolled": true
   },
   "outputs": [
    {
     "name": "stderr",
     "output_type": "stream",
     "text": [
      "/home/asim/.pyenv/versions/3.7.17/envs/aws/lib/python3.7/site-packages/transformers/optimization.py:415: FutureWarning: This implementation of AdamW is deprecated and will be removed in a future version. Use the PyTorch implementation torch.optim.AdamW instead, or set `no_deprecation_warning=True` to disable this warning\n",
      "  FutureWarning,\n",
      "You're using a BertTokenizerFast tokenizer. Please note that with a fast tokenizer, using the `__call__` method is faster than using a method to encode the text followed by a call to the `pad` method to get a padded encoding.\n"
     ]
    },
    {
     "data": {
      "text/html": [
       "\n",
       "    <div>\n",
       "      \n",
       "      <progress value='101200' max='101200' style='width:300px; height:20px; vertical-align: middle;'></progress>\n",
       "      [101200/101200 1:36:03, Epoch 10/10]\n",
       "    </div>\n",
       "    <table border=\"1\" class=\"dataframe\">\n",
       "  <thead>\n",
       " <tr style=\"text-align: left;\">\n",
       "      <th>Epoch</th>\n",
       "      <th>Training Loss</th>\n",
       "      <th>Validation Loss</th>\n",
       "      <th>F1</th>\n",
       "      <th>Roc Auc</th>\n",
       "      <th>Accuracy</th>\n",
       "    </tr>\n",
       "  </thead>\n",
       "  <tbody>\n",
       "    <tr>\n",
       "      <td>1</td>\n",
       "      <td>0.035100</td>\n",
       "      <td>0.034555</td>\n",
       "      <td>0.863919</td>\n",
       "      <td>0.924016</td>\n",
       "      <td>0.752569</td>\n",
       "    </tr>\n",
       "    <tr>\n",
       "      <td>2</td>\n",
       "      <td>0.025000</td>\n",
       "      <td>0.028641</td>\n",
       "      <td>0.886332</td>\n",
       "      <td>0.930479</td>\n",
       "      <td>0.797036</td>\n",
       "    </tr>\n",
       "    <tr>\n",
       "      <td>3</td>\n",
       "      <td>0.018600</td>\n",
       "      <td>0.027908</td>\n",
       "      <td>0.897784</td>\n",
       "      <td>0.938428</td>\n",
       "      <td>0.820553</td>\n",
       "    </tr>\n",
       "    <tr>\n",
       "      <td>4</td>\n",
       "      <td>0.012000</td>\n",
       "      <td>0.029101</td>\n",
       "      <td>0.904750</td>\n",
       "      <td>0.946565</td>\n",
       "      <td>0.829051</td>\n",
       "    </tr>\n",
       "    <tr>\n",
       "      <td>5</td>\n",
       "      <td>0.007800</td>\n",
       "      <td>0.032875</td>\n",
       "      <td>0.902258</td>\n",
       "      <td>0.949674</td>\n",
       "      <td>0.824901</td>\n",
       "    </tr>\n",
       "    <tr>\n",
       "      <td>6</td>\n",
       "      <td>0.004800</td>\n",
       "      <td>0.034566</td>\n",
       "      <td>0.906235</td>\n",
       "      <td>0.945557</td>\n",
       "      <td>0.833794</td>\n",
       "    </tr>\n",
       "    <tr>\n",
       "      <td>7</td>\n",
       "      <td>0.002000</td>\n",
       "      <td>0.035155</td>\n",
       "      <td>0.907867</td>\n",
       "      <td>0.950159</td>\n",
       "      <td>0.837549</td>\n",
       "    </tr>\n",
       "    <tr>\n",
       "      <td>8</td>\n",
       "      <td>0.001500</td>\n",
       "      <td>0.036689</td>\n",
       "      <td>0.912150</td>\n",
       "      <td>0.951503</td>\n",
       "      <td>0.842292</td>\n",
       "    </tr>\n",
       "    <tr>\n",
       "      <td>9</td>\n",
       "      <td>0.001300</td>\n",
       "      <td>0.037655</td>\n",
       "      <td>0.908475</td>\n",
       "      <td>0.952566</td>\n",
       "      <td>0.836166</td>\n",
       "    </tr>\n",
       "    <tr>\n",
       "      <td>10</td>\n",
       "      <td>0.000400</td>\n",
       "      <td>0.037890</td>\n",
       "      <td>0.912549</td>\n",
       "      <td>0.955284</td>\n",
       "      <td>0.842688</td>\n",
       "    </tr>\n",
       "  </tbody>\n",
       "</table><p>"
      ],
      "text/plain": [
       "<IPython.core.display.HTML object>"
      ]
     },
     "metadata": {},
     "output_type": "display_data"
    },
    {
     "data": {
      "text/plain": [
       "TrainOutput(global_step=101200, training_loss=0.013642083149800895, metrics={'train_runtime': 5764.4518, 'train_samples_per_second': 35.112, 'train_steps_per_second': 17.556, 'total_flos': 1.33168859400192e+16, 'train_loss': 0.013642083149800895, 'epoch': 10.0})"
      ]
     },
     "execution_count": 70,
     "metadata": {},
     "output_type": "execute_result"
    }
   ],
   "source": [
    "trainer.train()"
   ]
  },
  {
   "cell_type": "code",
   "execution_count": 71,
   "metadata": {
    "colab": {
     "base_uri": "https://localhost:8080/",
     "height": 228
    },
    "id": "xHuVEyc9AgBI",
    "outputId": "e2991388-5cbd-4f66-e7de-892e12da5f69"
   },
   "outputs": [
    {
     "data": {
      "text/html": [
       "\n",
       "    <div>\n",
       "      \n",
       "      <progress value='2530' max='2530' style='width:300px; height:20px; vertical-align: middle;'></progress>\n",
       "      [2530/2530 00:26]\n",
       "    </div>\n",
       "    "
      ],
      "text/plain": [
       "<IPython.core.display.HTML object>"
      ]
     },
     "metadata": {},
     "output_type": "display_data"
    },
    {
     "data": {
      "text/plain": [
       "{'eval_loss': 0.03788960725069046,\n",
       " 'eval_f1': 0.9125493672926573,\n",
       " 'eval_roc_auc': 0.9552836137177629,\n",
       " 'eval_accuracy': 0.8426877470355731,\n",
       " 'eval_runtime': 26.2948,\n",
       " 'eval_samples_per_second': 192.433,\n",
       " 'eval_steps_per_second': 96.217,\n",
       " 'epoch': 10.0}"
      ]
     },
     "execution_count": 71,
     "metadata": {},
     "output_type": "execute_result"
    }
   ],
   "source": [
    "trainer.evaluate()"
   ]
  },
  {
   "cell_type": "code",
   "execution_count": 72,
   "metadata": {
    "colab": {
     "base_uri": "https://localhost:8080/"
    },
    "id": "lMMdYBmJAghL",
    "outputId": "5d055f98-addf-40ee-b811-5177353b7f80"
   },
   "outputs": [],
   "source": [
    "trainer.save_model()"
   ]
  },
  {
   "cell_type": "code",
   "execution_count": 73,
   "metadata": {
    "id": "ggC9mJasP7K3"
   },
   "outputs": [
    {
     "ename": "KeyError",
     "evalue": "'body'",
     "output_type": "error",
     "traceback": [
      "\u001b[0;31m---------------------------------------------------------------------------\u001b[0m",
      "\u001b[0;31mKeyError\u001b[0m                                  Traceback (most recent call last)",
      "\u001b[0;32m~/.pyenv/versions/3.7.17/envs/aws/lib/python3.7/site-packages/pandas/core/indexes/base.py\u001b[0m in \u001b[0;36mget_loc\u001b[0;34m(self, key, method, tolerance)\u001b[0m\n\u001b[1;32m   3360\u001b[0m             \u001b[0;32mtry\u001b[0m\u001b[0;34m:\u001b[0m\u001b[0;34m\u001b[0m\u001b[0;34m\u001b[0m\u001b[0m\n\u001b[0;32m-> 3361\u001b[0;31m                 \u001b[0;32mreturn\u001b[0m \u001b[0mself\u001b[0m\u001b[0;34m.\u001b[0m\u001b[0m_engine\u001b[0m\u001b[0;34m.\u001b[0m\u001b[0mget_loc\u001b[0m\u001b[0;34m(\u001b[0m\u001b[0mcasted_key\u001b[0m\u001b[0;34m)\u001b[0m\u001b[0;34m\u001b[0m\u001b[0;34m\u001b[0m\u001b[0m\n\u001b[0m\u001b[1;32m   3362\u001b[0m             \u001b[0;32mexcept\u001b[0m \u001b[0mKeyError\u001b[0m \u001b[0;32mas\u001b[0m \u001b[0merr\u001b[0m\u001b[0;34m:\u001b[0m\u001b[0;34m\u001b[0m\u001b[0;34m\u001b[0m\u001b[0m\n",
      "\u001b[0;32m~/.pyenv/versions/3.7.17/envs/aws/lib/python3.7/site-packages/pandas/_libs/index.pyx\u001b[0m in \u001b[0;36mpandas._libs.index.IndexEngine.get_loc\u001b[0;34m()\u001b[0m\n",
      "\u001b[0;32m~/.pyenv/versions/3.7.17/envs/aws/lib/python3.7/site-packages/pandas/_libs/index.pyx\u001b[0m in \u001b[0;36mpandas._libs.index.IndexEngine.get_loc\u001b[0;34m()\u001b[0m\n",
      "\u001b[0;32mpandas/_libs/hashtable_class_helper.pxi\u001b[0m in \u001b[0;36mpandas._libs.hashtable.PyObjectHashTable.get_item\u001b[0;34m()\u001b[0m\n",
      "\u001b[0;32mpandas/_libs/hashtable_class_helper.pxi\u001b[0m in \u001b[0;36mpandas._libs.hashtable.PyObjectHashTable.get_item\u001b[0;34m()\u001b[0m\n",
      "\u001b[0;31mKeyError\u001b[0m: 'body'",
      "\nThe above exception was the direct cause of the following exception:\n",
      "\u001b[0;31mKeyError\u001b[0m                                  Traceback (most recent call last)",
      "\u001b[0;32m/tmp/ipykernel_247349/1641199867.py\u001b[0m in \u001b[0;36m<module>\u001b[0;34m\u001b[0m\n\u001b[0;32m----> 1\u001b[0;31m \u001b[0mdf\u001b[0m\u001b[0;34m[\u001b[0m\u001b[0;34m\"body\"\u001b[0m\u001b[0;34m]\u001b[0m\u001b[0;34m[\u001b[0m\u001b[0;36m1\u001b[0m\u001b[0;34m]\u001b[0m\u001b[0;34m\u001b[0m\u001b[0;34m\u001b[0m\u001b[0m\n\u001b[0m",
      "\u001b[0;32m~/.pyenv/versions/3.7.17/envs/aws/lib/python3.7/site-packages/pandas/core/frame.py\u001b[0m in \u001b[0;36m__getitem__\u001b[0;34m(self, key)\u001b[0m\n\u001b[1;32m   3456\u001b[0m             \u001b[0;32mif\u001b[0m \u001b[0mself\u001b[0m\u001b[0;34m.\u001b[0m\u001b[0mcolumns\u001b[0m\u001b[0;34m.\u001b[0m\u001b[0mnlevels\u001b[0m \u001b[0;34m>\u001b[0m \u001b[0;36m1\u001b[0m\u001b[0;34m:\u001b[0m\u001b[0;34m\u001b[0m\u001b[0;34m\u001b[0m\u001b[0m\n\u001b[1;32m   3457\u001b[0m                 \u001b[0;32mreturn\u001b[0m \u001b[0mself\u001b[0m\u001b[0;34m.\u001b[0m\u001b[0m_getitem_multilevel\u001b[0m\u001b[0;34m(\u001b[0m\u001b[0mkey\u001b[0m\u001b[0;34m)\u001b[0m\u001b[0;34m\u001b[0m\u001b[0;34m\u001b[0m\u001b[0m\n\u001b[0;32m-> 3458\u001b[0;31m             \u001b[0mindexer\u001b[0m \u001b[0;34m=\u001b[0m \u001b[0mself\u001b[0m\u001b[0;34m.\u001b[0m\u001b[0mcolumns\u001b[0m\u001b[0;34m.\u001b[0m\u001b[0mget_loc\u001b[0m\u001b[0;34m(\u001b[0m\u001b[0mkey\u001b[0m\u001b[0;34m)\u001b[0m\u001b[0;34m\u001b[0m\u001b[0;34m\u001b[0m\u001b[0m\n\u001b[0m\u001b[1;32m   3459\u001b[0m             \u001b[0;32mif\u001b[0m \u001b[0mis_integer\u001b[0m\u001b[0;34m(\u001b[0m\u001b[0mindexer\u001b[0m\u001b[0;34m)\u001b[0m\u001b[0;34m:\u001b[0m\u001b[0;34m\u001b[0m\u001b[0;34m\u001b[0m\u001b[0m\n\u001b[1;32m   3460\u001b[0m                 \u001b[0mindexer\u001b[0m \u001b[0;34m=\u001b[0m \u001b[0;34m[\u001b[0m\u001b[0mindexer\u001b[0m\u001b[0;34m]\u001b[0m\u001b[0;34m\u001b[0m\u001b[0;34m\u001b[0m\u001b[0m\n",
      "\u001b[0;32m~/.pyenv/versions/3.7.17/envs/aws/lib/python3.7/site-packages/pandas/core/indexes/base.py\u001b[0m in \u001b[0;36mget_loc\u001b[0;34m(self, key, method, tolerance)\u001b[0m\n\u001b[1;32m   3361\u001b[0m                 \u001b[0;32mreturn\u001b[0m \u001b[0mself\u001b[0m\u001b[0;34m.\u001b[0m\u001b[0m_engine\u001b[0m\u001b[0;34m.\u001b[0m\u001b[0mget_loc\u001b[0m\u001b[0;34m(\u001b[0m\u001b[0mcasted_key\u001b[0m\u001b[0;34m)\u001b[0m\u001b[0;34m\u001b[0m\u001b[0;34m\u001b[0m\u001b[0m\n\u001b[1;32m   3362\u001b[0m             \u001b[0;32mexcept\u001b[0m \u001b[0mKeyError\u001b[0m \u001b[0;32mas\u001b[0m \u001b[0merr\u001b[0m\u001b[0;34m:\u001b[0m\u001b[0;34m\u001b[0m\u001b[0;34m\u001b[0m\u001b[0m\n\u001b[0;32m-> 3363\u001b[0;31m                 \u001b[0;32mraise\u001b[0m \u001b[0mKeyError\u001b[0m\u001b[0;34m(\u001b[0m\u001b[0mkey\u001b[0m\u001b[0;34m)\u001b[0m \u001b[0;32mfrom\u001b[0m \u001b[0merr\u001b[0m\u001b[0;34m\u001b[0m\u001b[0;34m\u001b[0m\u001b[0m\n\u001b[0m\u001b[1;32m   3364\u001b[0m \u001b[0;34m\u001b[0m\u001b[0m\n\u001b[1;32m   3365\u001b[0m         \u001b[0;32mif\u001b[0m \u001b[0mis_scalar\u001b[0m\u001b[0;34m(\u001b[0m\u001b[0mkey\u001b[0m\u001b[0;34m)\u001b[0m \u001b[0;32mand\u001b[0m \u001b[0misna\u001b[0m\u001b[0;34m(\u001b[0m\u001b[0mkey\u001b[0m\u001b[0;34m)\u001b[0m \u001b[0;32mand\u001b[0m \u001b[0;32mnot\u001b[0m \u001b[0mself\u001b[0m\u001b[0;34m.\u001b[0m\u001b[0mhasnans\u001b[0m\u001b[0;34m:\u001b[0m\u001b[0;34m\u001b[0m\u001b[0;34m\u001b[0m\u001b[0m\n",
      "\u001b[0;31mKeyError\u001b[0m: 'body'"
     ]
    }
   ],
   "source": [
    "df[\"body\"][1]"
   ]
  },
  {
   "cell_type": "code",
   "execution_count": null,
   "metadata": {},
   "outputs": [],
   "source": [
    "aa = re.sub('<[^<]+?>', '', df[\"body\"][1])"
   ]
  },
  {
   "cell_type": "code",
   "execution_count": null,
   "metadata": {},
   "outputs": [],
   "source": [
    "aa"
   ]
  },
  {
   "cell_type": "code",
   "execution_count": null,
   "metadata": {},
   "outputs": [],
   "source": [
    "import pandas as pd\n",
    "\n",
    "# Specify the path to your Excel file\n",
    "excel_file_path = 'Business Events _ Story Review.xlsx'\n",
    "\n",
    "# Read all sheets into a dictionary of DataFrames\n",
    "sheets_dict = pd.read_excel(excel_file_path, sheet_name=None)\n",
    "\n",
    "# Define the columns to concatenate based on\n",
    "columns_to_concatenate = ['Title', 'Intro', 'Business Events', 'URL']\n",
    "\n",
    "# Initialize an empty DataFrame to store the concatenated data\n",
    "concatenated_df = pd.DataFrame(columns=columns_to_concatenate)\n",
    "\n",
    "# Concatenate DataFrames based on the specified columns\n",
    "for sheet_name, sheet_df in sheets_dict.items():\n",
    "    if all(column in sheet_df.columns for column in columns_to_concatenate):\n",
    "        concatenated_df = pd.concat([concatenated_df, sheet_df[columns_to_concatenate]])\n",
    "\n",
    "# Reset the index of the concatenated DataFrame\n",
    "concatenated_df.reset_index(drop=True, inplace=True)\n",
    "\n",
    "# Display the resulting DataFrame\n",
    "print(concatenated_df)\n"
   ]
  },
  {
   "cell_type": "code",
   "execution_count": null,
   "metadata": {},
   "outputs": [],
   "source": [
    "concatenated_df.to_excel('be_events.xlsx')"
   ]
  },
  {
   "cell_type": "code",
   "execution_count": null,
   "metadata": {},
   "outputs": [],
   "source": []
  }
 ],
 "metadata": {
  "accelerator": "GPU",
  "colab": {
   "provenance": []
  },
  "gpuClass": "standard",
  "kernelspec": {
   "display_name": "Python 3 (ipykernel)",
   "language": "python",
   "name": "python3"
  },
  "language_info": {
   "codemirror_mode": {
    "name": "ipython",
    "version": 3
   },
   "file_extension": ".py",
   "mimetype": "text/x-python",
   "name": "python",
   "nbconvert_exporter": "python",
   "pygments_lexer": "ipython3",
   "version": "3.7.17"
  },
  "widgets": {
   "application/vnd.jupyter.widget-state+json": {
    "0077158caedd4388b4c9f84a381ad42a": {
     "model_module": "@jupyter-widgets/base",
     "model_module_version": "1.2.0",
     "model_name": "LayoutModel",
     "state": {
      "_model_module": "@jupyter-widgets/base",
      "_model_module_version": "1.2.0",
      "_model_name": "LayoutModel",
      "_view_count": null,
      "_view_module": "@jupyter-widgets/base",
      "_view_module_version": "1.2.0",
      "_view_name": "LayoutView",
      "align_content": null,
      "align_items": null,
      "align_self": null,
      "border": null,
      "bottom": null,
      "display": null,
      "flex": null,
      "flex_flow": null,
      "grid_area": null,
      "grid_auto_columns": null,
      "grid_auto_flow": null,
      "grid_auto_rows": null,
      "grid_column": null,
      "grid_gap": null,
      "grid_row": null,
      "grid_template_areas": null,
      "grid_template_columns": null,
      "grid_template_rows": null,
      "height": null,
      "justify_content": null,
      "justify_items": null,
      "left": null,
      "margin": null,
      "max_height": null,
      "max_width": null,
      "min_height": null,
      "min_width": null,
      "object_fit": null,
      "object_position": null,
      "order": null,
      "overflow": null,
      "overflow_x": null,
      "overflow_y": null,
      "padding": null,
      "right": null,
      "top": null,
      "visibility": null,
      "width": null
     }
    },
    "00f6e9d245d8410ba6737a017903b85d": {
     "model_module": "@jupyter-widgets/controls",
     "model_module_version": "1.5.0",
     "model_name": "FloatProgressModel",
     "state": {
      "_dom_classes": [],
      "_model_module": "@jupyter-widgets/controls",
      "_model_module_version": "1.5.0",
      "_model_name": "FloatProgressModel",
      "_view_count": null,
      "_view_module": "@jupyter-widgets/controls",
      "_view_module_version": "1.5.0",
      "_view_name": "ProgressView",
      "bar_style": "success",
      "description": "",
      "description_tooltip": null,
      "layout": "IPY_MODEL_943c216a0be64492a8dbdc3dd60e9305",
      "max": 16,
      "min": 0,
      "orientation": "horizontal",
      "style": "IPY_MODEL_8db274724b4c4e89994ff720fa1e1be6",
      "value": 16
     }
    },
    "017481ed89f94fa8ae1922f5c1aae6a6": {
     "model_module": "@jupyter-widgets/controls",
     "model_module_version": "1.5.0",
     "model_name": "HTMLModel",
     "state": {
      "_dom_classes": [],
      "_model_module": "@jupyter-widgets/controls",
      "_model_module_version": "1.5.0",
      "_model_name": "HTMLModel",
      "_view_count": null,
      "_view_module": "@jupyter-widgets/controls",
      "_view_module_version": "1.5.0",
      "_view_name": "HTMLView",
      "description": "",
      "description_tooltip": null,
      "layout": "IPY_MODEL_1513baed8f5940c487959d78a8590fe8",
      "placeholder": "​",
      "style": "IPY_MODEL_b24ce3cec22c47c79da1ec2a62ca3d1d",
      "value": " 1.25G/1.25G [00:24&lt;00:00, 53.0MB/s]"
     }
    },
    "031c38c41fbd4cb7ba4e215e929f4c96": {
     "model_module": "@jupyter-widgets/base",
     "model_module_version": "1.2.0",
     "model_name": "LayoutModel",
     "state": {
      "_model_module": "@jupyter-widgets/base",
      "_model_module_version": "1.2.0",
      "_model_name": "LayoutModel",
      "_view_count": null,
      "_view_module": "@jupyter-widgets/base",
      "_view_module_version": "1.2.0",
      "_view_name": "LayoutView",
      "align_content": null,
      "align_items": null,
      "align_self": null,
      "border": null,
      "bottom": null,
      "display": null,
      "flex": null,
      "flex_flow": null,
      "grid_area": null,
      "grid_auto_columns": null,
      "grid_auto_flow": null,
      "grid_auto_rows": null,
      "grid_column": null,
      "grid_gap": null,
      "grid_row": null,
      "grid_template_areas": null,
      "grid_template_columns": null,
      "grid_template_rows": null,
      "height": null,
      "justify_content": null,
      "justify_items": null,
      "left": null,
      "margin": null,
      "max_height": null,
      "max_width": null,
      "min_height": null,
      "min_width": null,
      "object_fit": null,
      "object_position": null,
      "order": null,
      "overflow": null,
      "overflow_x": null,
      "overflow_y": null,
      "padding": null,
      "right": null,
      "top": null,
      "visibility": null,
      "width": null
     }
    },
    "0366ba487dea4693879e514b757ef832": {
     "model_module": "@jupyter-widgets/controls",
     "model_module_version": "1.5.0",
     "model_name": "ProgressStyleModel",
     "state": {
      "_model_module": "@jupyter-widgets/controls",
      "_model_module_version": "1.5.0",
      "_model_name": "ProgressStyleModel",
      "_view_count": null,
      "_view_module": "@jupyter-widgets/base",
      "_view_module_version": "1.2.0",
      "_view_name": "StyleView",
      "bar_color": null,
      "description_width": ""
     }
    },
    "0978ac61b1df4a9fa835a04b08ca675f": {
     "model_module": "@jupyter-widgets/controls",
     "model_module_version": "1.5.0",
     "model_name": "DescriptionStyleModel",
     "state": {
      "_model_module": "@jupyter-widgets/controls",
      "_model_module_version": "1.5.0",
      "_model_name": "DescriptionStyleModel",
      "_view_count": null,
      "_view_module": "@jupyter-widgets/base",
      "_view_module_version": "1.2.0",
      "_view_name": "StyleView",
      "description_width": ""
     }
    },
    "0a989c2a4f6640f782aba600ac346123": {
     "model_module": "@jupyter-widgets/base",
     "model_module_version": "1.2.0",
     "model_name": "LayoutModel",
     "state": {
      "_model_module": "@jupyter-widgets/base",
      "_model_module_version": "1.2.0",
      "_model_name": "LayoutModel",
      "_view_count": null,
      "_view_module": "@jupyter-widgets/base",
      "_view_module_version": "1.2.0",
      "_view_name": "LayoutView",
      "align_content": null,
      "align_items": null,
      "align_self": null,
      "border": null,
      "bottom": null,
      "display": null,
      "flex": null,
      "flex_flow": null,
      "grid_area": null,
      "grid_auto_columns": null,
      "grid_auto_flow": null,
      "grid_auto_rows": null,
      "grid_column": null,
      "grid_gap": null,
      "grid_row": null,
      "grid_template_areas": null,
      "grid_template_columns": null,
      "grid_template_rows": null,
      "height": null,
      "justify_content": null,
      "justify_items": null,
      "left": null,
      "margin": null,
      "max_height": null,
      "max_width": null,
      "min_height": null,
      "min_width": null,
      "object_fit": null,
      "object_position": null,
      "order": null,
      "overflow": null,
      "overflow_x": null,
      "overflow_y": null,
      "padding": null,
      "right": null,
      "top": null,
      "visibility": null,
      "width": null
     }
    },
    "13e4b7d64a54486cb09624b659e54903": {
     "model_module": "@jupyter-widgets/base",
     "model_module_version": "1.2.0",
     "model_name": "LayoutModel",
     "state": {
      "_model_module": "@jupyter-widgets/base",
      "_model_module_version": "1.2.0",
      "_model_name": "LayoutModel",
      "_view_count": null,
      "_view_module": "@jupyter-widgets/base",
      "_view_module_version": "1.2.0",
      "_view_name": "LayoutView",
      "align_content": null,
      "align_items": null,
      "align_self": null,
      "border": null,
      "bottom": null,
      "display": null,
      "flex": null,
      "flex_flow": null,
      "grid_area": null,
      "grid_auto_columns": null,
      "grid_auto_flow": null,
      "grid_auto_rows": null,
      "grid_column": null,
      "grid_gap": null,
      "grid_row": null,
      "grid_template_areas": null,
      "grid_template_columns": null,
      "grid_template_rows": null,
      "height": null,
      "justify_content": null,
      "justify_items": null,
      "left": null,
      "margin": null,
      "max_height": null,
      "max_width": null,
      "min_height": null,
      "min_width": null,
      "object_fit": null,
      "object_position": null,
      "order": null,
      "overflow": null,
      "overflow_x": null,
      "overflow_y": null,
      "padding": null,
      "right": null,
      "top": null,
      "visibility": null,
      "width": null
     }
    },
    "1513baed8f5940c487959d78a8590fe8": {
     "model_module": "@jupyter-widgets/base",
     "model_module_version": "1.2.0",
     "model_name": "LayoutModel",
     "state": {
      "_model_module": "@jupyter-widgets/base",
      "_model_module_version": "1.2.0",
      "_model_name": "LayoutModel",
      "_view_count": null,
      "_view_module": "@jupyter-widgets/base",
      "_view_module_version": "1.2.0",
      "_view_name": "LayoutView",
      "align_content": null,
      "align_items": null,
      "align_self": null,
      "border": null,
      "bottom": null,
      "display": null,
      "flex": null,
      "flex_flow": null,
      "grid_area": null,
      "grid_auto_columns": null,
      "grid_auto_flow": null,
      "grid_auto_rows": null,
      "grid_column": null,
      "grid_gap": null,
      "grid_row": null,
      "grid_template_areas": null,
      "grid_template_columns": null,
      "grid_template_rows": null,
      "height": null,
      "justify_content": null,
      "justify_items": null,
      "left": null,
      "margin": null,
      "max_height": null,
      "max_width": null,
      "min_height": null,
      "min_width": null,
      "object_fit": null,
      "object_position": null,
      "order": null,
      "overflow": null,
      "overflow_x": null,
      "overflow_y": null,
      "padding": null,
      "right": null,
      "top": null,
      "visibility": null,
      "width": null
     }
    },
    "170ca7aa86d446759234bc1e3fec1b4d": {
     "model_module": "@jupyter-widgets/controls",
     "model_module_version": "1.5.0",
     "model_name": "DescriptionStyleModel",
     "state": {
      "_model_module": "@jupyter-widgets/controls",
      "_model_module_version": "1.5.0",
      "_model_name": "DescriptionStyleModel",
      "_view_count": null,
      "_view_module": "@jupyter-widgets/base",
      "_view_module_version": "1.2.0",
      "_view_name": "StyleView",
      "description_width": ""
     }
    },
    "1f0d5af6cbc44b5fb8cb30ea186317ee": {
     "model_module": "@jupyter-widgets/controls",
     "model_module_version": "1.5.0",
     "model_name": "DescriptionStyleModel",
     "state": {
      "_model_module": "@jupyter-widgets/controls",
      "_model_module_version": "1.5.0",
      "_model_name": "DescriptionStyleModel",
      "_view_count": null,
      "_view_module": "@jupyter-widgets/base",
      "_view_module_version": "1.2.0",
      "_view_name": "StyleView",
      "description_width": ""
     }
    },
    "1f73515c98e74897835094efab3a9a0a": {
     "model_module": "@jupyter-widgets/base",
     "model_module_version": "1.2.0",
     "model_name": "LayoutModel",
     "state": {
      "_model_module": "@jupyter-widgets/base",
      "_model_module_version": "1.2.0",
      "_model_name": "LayoutModel",
      "_view_count": null,
      "_view_module": "@jupyter-widgets/base",
      "_view_module_version": "1.2.0",
      "_view_name": "LayoutView",
      "align_content": null,
      "align_items": null,
      "align_self": null,
      "border": null,
      "bottom": null,
      "display": null,
      "flex": null,
      "flex_flow": null,
      "grid_area": null,
      "grid_auto_columns": null,
      "grid_auto_flow": null,
      "grid_auto_rows": null,
      "grid_column": null,
      "grid_gap": null,
      "grid_row": null,
      "grid_template_areas": null,
      "grid_template_columns": null,
      "grid_template_rows": null,
      "height": null,
      "justify_content": null,
      "justify_items": null,
      "left": null,
      "margin": null,
      "max_height": null,
      "max_width": null,
      "min_height": null,
      "min_width": null,
      "object_fit": null,
      "object_position": null,
      "order": null,
      "overflow": null,
      "overflow_x": null,
      "overflow_y": null,
      "padding": null,
      "right": null,
      "top": null,
      "visibility": null,
      "width": null
     }
    },
    "203954f885164e12bfcfbe7f6b40d315": {
     "model_module": "@jupyter-widgets/base",
     "model_module_version": "1.2.0",
     "model_name": "LayoutModel",
     "state": {
      "_model_module": "@jupyter-widgets/base",
      "_model_module_version": "1.2.0",
      "_model_name": "LayoutModel",
      "_view_count": null,
      "_view_module": "@jupyter-widgets/base",
      "_view_module_version": "1.2.0",
      "_view_name": "LayoutView",
      "align_content": null,
      "align_items": null,
      "align_self": null,
      "border": null,
      "bottom": null,
      "display": null,
      "flex": null,
      "flex_flow": null,
      "grid_area": null,
      "grid_auto_columns": null,
      "grid_auto_flow": null,
      "grid_auto_rows": null,
      "grid_column": null,
      "grid_gap": null,
      "grid_row": null,
      "grid_template_areas": null,
      "grid_template_columns": null,
      "grid_template_rows": null,
      "height": null,
      "justify_content": null,
      "justify_items": null,
      "left": null,
      "margin": null,
      "max_height": null,
      "max_width": null,
      "min_height": null,
      "min_width": null,
      "object_fit": null,
      "object_position": null,
      "order": null,
      "overflow": null,
      "overflow_x": null,
      "overflow_y": null,
      "padding": null,
      "right": null,
      "top": null,
      "visibility": null,
      "width": null
     }
    },
    "2418f5ca65b34d5f957f1115db4a04e9": {
     "model_module": "@jupyter-widgets/controls",
     "model_module_version": "1.5.0",
     "model_name": "HTMLModel",
     "state": {
      "_dom_classes": [],
      "_model_module": "@jupyter-widgets/controls",
      "_model_module_version": "1.5.0",
      "_model_name": "HTMLModel",
      "_view_count": null,
      "_view_module": "@jupyter-widgets/controls",
      "_view_module_version": "1.5.0",
      "_view_name": "HTMLView",
      "description": "",
      "description_tooltip": null,
      "layout": "IPY_MODEL_266c2556d47c497a83826d1a31d58fb5",
      "placeholder": "​",
      "style": "IPY_MODEL_0978ac61b1df4a9fa835a04b08ca675f",
      "value": " 455k/455k [00:00&lt;00:00, 1.41MB/s]"
     }
    },
    "25b76a0cacc24e8b9e87f10142bb7d03": {
     "model_module": "@jupyter-widgets/controls",
     "model_module_version": "1.5.0",
     "model_name": "HBoxModel",
     "state": {
      "_dom_classes": [],
      "_model_module": "@jupyter-widgets/controls",
      "_model_module_version": "1.5.0",
      "_model_name": "HBoxModel",
      "_view_count": null,
      "_view_module": "@jupyter-widgets/controls",
      "_view_module_version": "1.5.0",
      "_view_name": "HBoxView",
      "box_style": "",
      "children": [
       "IPY_MODEL_64dffd2bc99042afbb7e5fb5ee671dab",
       "IPY_MODEL_845131fdbaaf4d7281b06f6507334302",
       "IPY_MODEL_017481ed89f94fa8ae1922f5c1aae6a6"
      ],
      "layout": "IPY_MODEL_1f73515c98e74897835094efab3a9a0a"
     }
    },
    "266c2556d47c497a83826d1a31d58fb5": {
     "model_module": "@jupyter-widgets/base",
     "model_module_version": "1.2.0",
     "model_name": "LayoutModel",
     "state": {
      "_model_module": "@jupyter-widgets/base",
      "_model_module_version": "1.2.0",
      "_model_name": "LayoutModel",
      "_view_count": null,
      "_view_module": "@jupyter-widgets/base",
      "_view_module_version": "1.2.0",
      "_view_name": "LayoutView",
      "align_content": null,
      "align_items": null,
      "align_self": null,
      "border": null,
      "bottom": null,
      "display": null,
      "flex": null,
      "flex_flow": null,
      "grid_area": null,
      "grid_auto_columns": null,
      "grid_auto_flow": null,
      "grid_auto_rows": null,
      "grid_column": null,
      "grid_gap": null,
      "grid_row": null,
      "grid_template_areas": null,
      "grid_template_columns": null,
      "grid_template_rows": null,
      "height": null,
      "justify_content": null,
      "justify_items": null,
      "left": null,
      "margin": null,
      "max_height": null,
      "max_width": null,
      "min_height": null,
      "min_width": null,
      "object_fit": null,
      "object_position": null,
      "order": null,
      "overflow": null,
      "overflow_x": null,
      "overflow_y": null,
      "padding": null,
      "right": null,
      "top": null,
      "visibility": null,
      "width": null
     }
    },
    "26d8f845288746e996160df8f81c531a": {
     "model_module": "@jupyter-widgets/base",
     "model_module_version": "1.2.0",
     "model_name": "LayoutModel",
     "state": {
      "_model_module": "@jupyter-widgets/base",
      "_model_module_version": "1.2.0",
      "_model_name": "LayoutModel",
      "_view_count": null,
      "_view_module": "@jupyter-widgets/base",
      "_view_module_version": "1.2.0",
      "_view_name": "LayoutView",
      "align_content": null,
      "align_items": null,
      "align_self": null,
      "border": null,
      "bottom": null,
      "display": null,
      "flex": null,
      "flex_flow": null,
      "grid_area": null,
      "grid_auto_columns": null,
      "grid_auto_flow": null,
      "grid_auto_rows": null,
      "grid_column": null,
      "grid_gap": null,
      "grid_row": null,
      "grid_template_areas": null,
      "grid_template_columns": null,
      "grid_template_rows": null,
      "height": null,
      "justify_content": null,
      "justify_items": null,
      "left": null,
      "margin": null,
      "max_height": null,
      "max_width": null,
      "min_height": null,
      "min_width": null,
      "object_fit": null,
      "object_position": null,
      "order": null,
      "overflow": null,
      "overflow_x": null,
      "overflow_y": null,
      "padding": null,
      "right": null,
      "top": null,
      "visibility": null,
      "width": null
     }
    },
    "37ad8d33e367413cbbcbffd6d3465e1c": {
     "model_module": "@jupyter-widgets/base",
     "model_module_version": "1.2.0",
     "model_name": "LayoutModel",
     "state": {
      "_model_module": "@jupyter-widgets/base",
      "_model_module_version": "1.2.0",
      "_model_name": "LayoutModel",
      "_view_count": null,
      "_view_module": "@jupyter-widgets/base",
      "_view_module_version": "1.2.0",
      "_view_name": "LayoutView",
      "align_content": null,
      "align_items": null,
      "align_self": null,
      "border": null,
      "bottom": null,
      "display": null,
      "flex": null,
      "flex_flow": null,
      "grid_area": null,
      "grid_auto_columns": null,
      "grid_auto_flow": null,
      "grid_auto_rows": null,
      "grid_column": null,
      "grid_gap": null,
      "grid_row": null,
      "grid_template_areas": null,
      "grid_template_columns": null,
      "grid_template_rows": null,
      "height": null,
      "justify_content": null,
      "justify_items": null,
      "left": null,
      "margin": null,
      "max_height": null,
      "max_width": null,
      "min_height": null,
      "min_width": null,
      "object_fit": null,
      "object_position": null,
      "order": null,
      "overflow": null,
      "overflow_x": null,
      "overflow_y": null,
      "padding": null,
      "right": null,
      "top": null,
      "visibility": null,
      "width": null
     }
    },
    "385c6fd77ace4065a2925867f7c1c9e4": {
     "model_module": "@jupyter-widgets/controls",
     "model_module_version": "1.5.0",
     "model_name": "FloatProgressModel",
     "state": {
      "_dom_classes": [],
      "_model_module": "@jupyter-widgets/controls",
      "_model_module_version": "1.5.0",
      "_model_name": "FloatProgressModel",
      "_view_count": null,
      "_view_module": "@jupyter-widgets/controls",
      "_view_module_version": "1.5.0",
      "_view_name": "ProgressView",
      "bar_style": "success",
      "description": "",
      "description_tooltip": null,
      "layout": "IPY_MODEL_d16505c1df114ea8832eacd622254c3d",
      "max": 4,
      "min": 0,
      "orientation": "horizontal",
      "style": "IPY_MODEL_bc67325d798b453689191518a4d77af7",
      "value": 4
     }
    },
    "3b577ec919564739bfe7b1d95e0668b9": {
     "model_module": "@jupyter-widgets/base",
     "model_module_version": "1.2.0",
     "model_name": "LayoutModel",
     "state": {
      "_model_module": "@jupyter-widgets/base",
      "_model_module_version": "1.2.0",
      "_model_name": "LayoutModel",
      "_view_count": null,
      "_view_module": "@jupyter-widgets/base",
      "_view_module_version": "1.2.0",
      "_view_name": "LayoutView",
      "align_content": null,
      "align_items": null,
      "align_self": null,
      "border": null,
      "bottom": null,
      "display": null,
      "flex": null,
      "flex_flow": null,
      "grid_area": null,
      "grid_auto_columns": null,
      "grid_auto_flow": null,
      "grid_auto_rows": null,
      "grid_column": null,
      "grid_gap": null,
      "grid_row": null,
      "grid_template_areas": null,
      "grid_template_columns": null,
      "grid_template_rows": null,
      "height": null,
      "justify_content": null,
      "justify_items": null,
      "left": null,
      "margin": null,
      "max_height": null,
      "max_width": null,
      "min_height": null,
      "min_width": null,
      "object_fit": null,
      "object_position": null,
      "order": null,
      "overflow": null,
      "overflow_x": null,
      "overflow_y": null,
      "padding": null,
      "right": null,
      "top": null,
      "visibility": null,
      "width": null
     }
    },
    "42ed6c08aecd4e77958df839845306af": {
     "model_module": "@jupyter-widgets/controls",
     "model_module_version": "1.5.0",
     "model_name": "FloatProgressModel",
     "state": {
      "_dom_classes": [],
      "_model_module": "@jupyter-widgets/controls",
      "_model_module_version": "1.5.0",
      "_model_name": "FloatProgressModel",
      "_view_count": null,
      "_view_module": "@jupyter-widgets/controls",
      "_view_module_version": "1.5.0",
      "_view_name": "ProgressView",
      "bar_style": "success",
      "description": "",
      "description_tooltip": null,
      "layout": "IPY_MODEL_0077158caedd4388b4c9f84a381ad42a",
      "max": 466062,
      "min": 0,
      "orientation": "horizontal",
      "style": "IPY_MODEL_99eff06a36a043a4a8f56f59dec8eba0",
      "value": 466062
     }
    },
    "452cf611d3e14eb0a0909d606fdc55a9": {
     "model_module": "@jupyter-widgets/base",
     "model_module_version": "1.2.0",
     "model_name": "LayoutModel",
     "state": {
      "_model_module": "@jupyter-widgets/base",
      "_model_module_version": "1.2.0",
      "_model_name": "LayoutModel",
      "_view_count": null,
      "_view_module": "@jupyter-widgets/base",
      "_view_module_version": "1.2.0",
      "_view_name": "LayoutView",
      "align_content": null,
      "align_items": null,
      "align_self": null,
      "border": null,
      "bottom": null,
      "display": null,
      "flex": null,
      "flex_flow": null,
      "grid_area": null,
      "grid_auto_columns": null,
      "grid_auto_flow": null,
      "grid_auto_rows": null,
      "grid_column": null,
      "grid_gap": null,
      "grid_row": null,
      "grid_template_areas": null,
      "grid_template_columns": null,
      "grid_template_rows": null,
      "height": null,
      "justify_content": null,
      "justify_items": null,
      "left": null,
      "margin": null,
      "max_height": null,
      "max_width": null,
      "min_height": null,
      "min_width": null,
      "object_fit": null,
      "object_position": null,
      "order": null,
      "overflow": null,
      "overflow_x": null,
      "overflow_y": null,
      "padding": null,
      "right": null,
      "top": null,
      "visibility": null,
      "width": null
     }
    },
    "45fd293af91b4dcf89ae221b657518c8": {
     "model_module": "@jupyter-widgets/controls",
     "model_module_version": "1.5.0",
     "model_name": "HTMLModel",
     "state": {
      "_dom_classes": [],
      "_model_module": "@jupyter-widgets/controls",
      "_model_module_version": "1.5.0",
      "_model_name": "HTMLModel",
      "_view_count": null,
      "_view_module": "@jupyter-widgets/controls",
      "_view_module_version": "1.5.0",
      "_view_name": "HTMLView",
      "description": "",
      "description_tooltip": null,
      "layout": "IPY_MODEL_e72204ca01974a3384d10c5a6d0997f9",
      "placeholder": "​",
      "style": "IPY_MODEL_bc3cc9d419c3480faa1286f3d9338d4c",
      "value": " 571/571 [00:00&lt;00:00, 11.9kB/s]"
     }
    },
    "501a9c5fe0a54123afef0a6d18e40bcd": {
     "model_module": "@jupyter-widgets/controls",
     "model_module_version": "1.5.0",
     "model_name": "HTMLModel",
     "state": {
      "_dom_classes": [],
      "_model_module": "@jupyter-widgets/controls",
      "_model_module_version": "1.5.0",
      "_model_name": "HTMLModel",
      "_view_count": null,
      "_view_module": "@jupyter-widgets/controls",
      "_view_module_version": "1.5.0",
      "_view_name": "HTMLView",
      "description": "",
      "description_tooltip": null,
      "layout": "IPY_MODEL_031c38c41fbd4cb7ba4e215e929f4c96",
      "placeholder": "​",
      "style": "IPY_MODEL_a6d09fa0bbaa4340b80359a57b69e7a9",
      "value": "100%"
     }
    },
    "5a6f9c1dfb584ba28d5fd9618f9910d6": {
     "model_module": "@jupyter-widgets/controls",
     "model_module_version": "1.5.0",
     "model_name": "HBoxModel",
     "state": {
      "_dom_classes": [],
      "_model_module": "@jupyter-widgets/controls",
      "_model_module_version": "1.5.0",
      "_model_name": "HBoxModel",
      "_view_count": null,
      "_view_module": "@jupyter-widgets/controls",
      "_view_module_version": "1.5.0",
      "_view_name": "HBoxView",
      "box_style": "",
      "children": [
       "IPY_MODEL_8e32ec714f4f4f249cc90991970a1c11",
       "IPY_MODEL_ecfcaf23c1314127a9b9bb824d129e91",
       "IPY_MODEL_97f0da4fcefa46e4bab8e1aefd347eaf"
      ],
      "layout": "IPY_MODEL_452cf611d3e14eb0a0909d606fdc55a9"
     }
    },
    "5ae17cbcb2a5488e88e3160a8f3a7505": {
     "model_module": "@jupyter-widgets/base",
     "model_module_version": "1.2.0",
     "model_name": "LayoutModel",
     "state": {
      "_model_module": "@jupyter-widgets/base",
      "_model_module_version": "1.2.0",
      "_model_name": "LayoutModel",
      "_view_count": null,
      "_view_module": "@jupyter-widgets/base",
      "_view_module_version": "1.2.0",
      "_view_name": "LayoutView",
      "align_content": null,
      "align_items": null,
      "align_self": null,
      "border": null,
      "bottom": null,
      "display": null,
      "flex": null,
      "flex_flow": null,
      "grid_area": null,
      "grid_auto_columns": null,
      "grid_auto_flow": null,
      "grid_auto_rows": null,
      "grid_column": null,
      "grid_gap": null,
      "grid_row": null,
      "grid_template_areas": null,
      "grid_template_columns": null,
      "grid_template_rows": null,
      "height": null,
      "justify_content": null,
      "justify_items": null,
      "left": null,
      "margin": null,
      "max_height": null,
      "max_width": null,
      "min_height": null,
      "min_width": null,
      "object_fit": null,
      "object_position": null,
      "order": null,
      "overflow": null,
      "overflow_x": null,
      "overflow_y": null,
      "padding": null,
      "right": null,
      "top": null,
      "visibility": null,
      "width": null
     }
    },
    "5ddf0ab8287c4d09bcaa577153849572": {
     "model_module": "@jupyter-widgets/controls",
     "model_module_version": "1.5.0",
     "model_name": "HTMLModel",
     "state": {
      "_dom_classes": [],
      "_model_module": "@jupyter-widgets/controls",
      "_model_module_version": "1.5.0",
      "_model_name": "HTMLModel",
      "_view_count": null,
      "_view_module": "@jupyter-widgets/controls",
      "_view_module_version": "1.5.0",
      "_view_name": "HTMLView",
      "description": "",
      "description_tooltip": null,
      "layout": "IPY_MODEL_0a989c2a4f6640f782aba600ac346123",
      "placeholder": "​",
      "style": "IPY_MODEL_170ca7aa86d446759234bc1e3fec1b4d",
      "value": " 16/16 [00:51&lt;00:00,  2.56s/ba]"
     }
    },
    "60ab73e022174e9a837b8af9fda2c3a1": {
     "model_module": "@jupyter-widgets/base",
     "model_module_version": "1.2.0",
     "model_name": "LayoutModel",
     "state": {
      "_model_module": "@jupyter-widgets/base",
      "_model_module_version": "1.2.0",
      "_model_name": "LayoutModel",
      "_view_count": null,
      "_view_module": "@jupyter-widgets/base",
      "_view_module_version": "1.2.0",
      "_view_name": "LayoutView",
      "align_content": null,
      "align_items": null,
      "align_self": null,
      "border": null,
      "bottom": null,
      "display": null,
      "flex": null,
      "flex_flow": null,
      "grid_area": null,
      "grid_auto_columns": null,
      "grid_auto_flow": null,
      "grid_auto_rows": null,
      "grid_column": null,
      "grid_gap": null,
      "grid_row": null,
      "grid_template_areas": null,
      "grid_template_columns": null,
      "grid_template_rows": null,
      "height": null,
      "justify_content": null,
      "justify_items": null,
      "left": null,
      "margin": null,
      "max_height": null,
      "max_width": null,
      "min_height": null,
      "min_width": null,
      "object_fit": null,
      "object_position": null,
      "order": null,
      "overflow": null,
      "overflow_x": null,
      "overflow_y": null,
      "padding": null,
      "right": null,
      "top": null,
      "visibility": null,
      "width": null
     }
    },
    "6300263627a84bfea0c355d4bca920a5": {
     "model_module": "@jupyter-widgets/controls",
     "model_module_version": "1.5.0",
     "model_name": "DescriptionStyleModel",
     "state": {
      "_model_module": "@jupyter-widgets/controls",
      "_model_module_version": "1.5.0",
      "_model_name": "DescriptionStyleModel",
      "_view_count": null,
      "_view_module": "@jupyter-widgets/base",
      "_view_module_version": "1.2.0",
      "_view_name": "StyleView",
      "description_width": ""
     }
    },
    "64dffd2bc99042afbb7e5fb5ee671dab": {
     "model_module": "@jupyter-widgets/controls",
     "model_module_version": "1.5.0",
     "model_name": "HTMLModel",
     "state": {
      "_dom_classes": [],
      "_model_module": "@jupyter-widgets/controls",
      "_model_module_version": "1.5.0",
      "_model_name": "HTMLModel",
      "_view_count": null,
      "_view_module": "@jupyter-widgets/controls",
      "_view_module_version": "1.5.0",
      "_view_name": "HTMLView",
      "description": "",
      "description_tooltip": null,
      "layout": "IPY_MODEL_a1b781ee60534ef585d77700b4416c41",
      "placeholder": "​",
      "style": "IPY_MODEL_6300263627a84bfea0c355d4bca920a5",
      "value": "Downloading: 100%"
     }
    },
    "67fccbe89254435e98b8960ee9b1e8f6": {
     "model_module": "@jupyter-widgets/controls",
     "model_module_version": "1.5.0",
     "model_name": "HTMLModel",
     "state": {
      "_dom_classes": [],
      "_model_module": "@jupyter-widgets/controls",
      "_model_module_version": "1.5.0",
      "_model_name": "HTMLModel",
      "_view_count": null,
      "_view_module": "@jupyter-widgets/controls",
      "_view_module_version": "1.5.0",
      "_view_name": "HTMLView",
      "description": "",
      "description_tooltip": null,
      "layout": "IPY_MODEL_60ab73e022174e9a837b8af9fda2c3a1",
      "placeholder": "​",
      "style": "IPY_MODEL_d223286d2baf4892a092c4c0e1d1e919",
      "value": "100%"
     }
    },
    "6ae3211e6dab4a799dfa8ad2102293b9": {
     "model_module": "@jupyter-widgets/controls",
     "model_module_version": "1.5.0",
     "model_name": "DescriptionStyleModel",
     "state": {
      "_model_module": "@jupyter-widgets/controls",
      "_model_module_version": "1.5.0",
      "_model_name": "DescriptionStyleModel",
      "_view_count": null,
      "_view_module": "@jupyter-widgets/base",
      "_view_module_version": "1.2.0",
      "_view_name": "StyleView",
      "description_width": ""
     }
    },
    "78ab144d503643f69d73122f1b9c8407": {
     "model_module": "@jupyter-widgets/controls",
     "model_module_version": "1.5.0",
     "model_name": "HTMLModel",
     "state": {
      "_dom_classes": [],
      "_model_module": "@jupyter-widgets/controls",
      "_model_module_version": "1.5.0",
      "_model_name": "HTMLModel",
      "_view_count": null,
      "_view_module": "@jupyter-widgets/controls",
      "_view_module_version": "1.5.0",
      "_view_name": "HTMLView",
      "description": "",
      "description_tooltip": null,
      "layout": "IPY_MODEL_8a330b7a1346475fa2d76ec823be4fe3",
      "placeholder": "​",
      "style": "IPY_MODEL_b2fcc2290b7f4be4a06ad4cfa475e6ec",
      "value": " 28.0/28.0 [00:00&lt;00:00, 769B/s]"
     }
    },
    "7cb35e1431664073a2ef1044f2ad99cb": {
     "model_module": "@jupyter-widgets/controls",
     "model_module_version": "1.5.0",
     "model_name": "DescriptionStyleModel",
     "state": {
      "_model_module": "@jupyter-widgets/controls",
      "_model_module_version": "1.5.0",
      "_model_name": "DescriptionStyleModel",
      "_view_count": null,
      "_view_module": "@jupyter-widgets/base",
      "_view_module_version": "1.2.0",
      "_view_name": "StyleView",
      "description_width": ""
     }
    },
    "80801f32921c4d7f940205d3da587e47": {
     "model_module": "@jupyter-widgets/controls",
     "model_module_version": "1.5.0",
     "model_name": "HTMLModel",
     "state": {
      "_dom_classes": [],
      "_model_module": "@jupyter-widgets/controls",
      "_model_module_version": "1.5.0",
      "_model_name": "HTMLModel",
      "_view_count": null,
      "_view_module": "@jupyter-widgets/controls",
      "_view_module_version": "1.5.0",
      "_view_name": "HTMLView",
      "description": "",
      "description_tooltip": null,
      "layout": "IPY_MODEL_203954f885164e12bfcfbe7f6b40d315",
      "placeholder": "​",
      "style": "IPY_MODEL_fa8b2a7c34784e86b3614bb803c1208a",
      "value": "Downloading: 100%"
     }
    },
    "845131fdbaaf4d7281b06f6507334302": {
     "model_module": "@jupyter-widgets/controls",
     "model_module_version": "1.5.0",
     "model_name": "FloatProgressModel",
     "state": {
      "_dom_classes": [],
      "_model_module": "@jupyter-widgets/controls",
      "_model_module_version": "1.5.0",
      "_model_name": "FloatProgressModel",
      "_view_count": null,
      "_view_module": "@jupyter-widgets/controls",
      "_view_module_version": "1.5.0",
      "_view_name": "ProgressView",
      "bar_style": "success",
      "description": "",
      "description_tooltip": null,
      "layout": "IPY_MODEL_5ae17cbcb2a5488e88e3160a8f3a7505",
      "max": 1344997306,
      "min": 0,
      "orientation": "horizontal",
      "style": "IPY_MODEL_e14eff0c75394851ac2224c383601b84",
      "value": 1344997306
     }
    },
    "880fcb4742b04d34aac4fae31c6d4ba5": {
     "model_module": "@jupyter-widgets/controls",
     "model_module_version": "1.5.0",
     "model_name": "HTMLModel",
     "state": {
      "_dom_classes": [],
      "_model_module": "@jupyter-widgets/controls",
      "_model_module_version": "1.5.0",
      "_model_name": "HTMLModel",
      "_view_count": null,
      "_view_module": "@jupyter-widgets/controls",
      "_view_module_version": "1.5.0",
      "_view_name": "HTMLView",
      "description": "",
      "description_tooltip": null,
      "layout": "IPY_MODEL_b1132224ac20405cb6157ebd1ea35b3f",
      "placeholder": "​",
      "style": "IPY_MODEL_6ae3211e6dab4a799dfa8ad2102293b9",
      "value": " 4/4 [00:09&lt;00:00,  2.33s/ba]"
     }
    },
    "88be066bd25b402b8b6ebb32b3751c41": {
     "model_module": "@jupyter-widgets/base",
     "model_module_version": "1.2.0",
     "model_name": "LayoutModel",
     "state": {
      "_model_module": "@jupyter-widgets/base",
      "_model_module_version": "1.2.0",
      "_model_name": "LayoutModel",
      "_view_count": null,
      "_view_module": "@jupyter-widgets/base",
      "_view_module_version": "1.2.0",
      "_view_name": "LayoutView",
      "align_content": null,
      "align_items": null,
      "align_self": null,
      "border": null,
      "bottom": null,
      "display": null,
      "flex": null,
      "flex_flow": null,
      "grid_area": null,
      "grid_auto_columns": null,
      "grid_auto_flow": null,
      "grid_auto_rows": null,
      "grid_column": null,
      "grid_gap": null,
      "grid_row": null,
      "grid_template_areas": null,
      "grid_template_columns": null,
      "grid_template_rows": null,
      "height": null,
      "justify_content": null,
      "justify_items": null,
      "left": null,
      "margin": null,
      "max_height": null,
      "max_width": null,
      "min_height": null,
      "min_width": null,
      "object_fit": null,
      "object_position": null,
      "order": null,
      "overflow": null,
      "overflow_x": null,
      "overflow_y": null,
      "padding": null,
      "right": null,
      "top": null,
      "visibility": null,
      "width": null
     }
    },
    "8a330b7a1346475fa2d76ec823be4fe3": {
     "model_module": "@jupyter-widgets/base",
     "model_module_version": "1.2.0",
     "model_name": "LayoutModel",
     "state": {
      "_model_module": "@jupyter-widgets/base",
      "_model_module_version": "1.2.0",
      "_model_name": "LayoutModel",
      "_view_count": null,
      "_view_module": "@jupyter-widgets/base",
      "_view_module_version": "1.2.0",
      "_view_name": "LayoutView",
      "align_content": null,
      "align_items": null,
      "align_self": null,
      "border": null,
      "bottom": null,
      "display": null,
      "flex": null,
      "flex_flow": null,
      "grid_area": null,
      "grid_auto_columns": null,
      "grid_auto_flow": null,
      "grid_auto_rows": null,
      "grid_column": null,
      "grid_gap": null,
      "grid_row": null,
      "grid_template_areas": null,
      "grid_template_columns": null,
      "grid_template_rows": null,
      "height": null,
      "justify_content": null,
      "justify_items": null,
      "left": null,
      "margin": null,
      "max_height": null,
      "max_width": null,
      "min_height": null,
      "min_width": null,
      "object_fit": null,
      "object_position": null,
      "order": null,
      "overflow": null,
      "overflow_x": null,
      "overflow_y": null,
      "padding": null,
      "right": null,
      "top": null,
      "visibility": null,
      "width": null
     }
    },
    "8db274724b4c4e89994ff720fa1e1be6": {
     "model_module": "@jupyter-widgets/controls",
     "model_module_version": "1.5.0",
     "model_name": "ProgressStyleModel",
     "state": {
      "_model_module": "@jupyter-widgets/controls",
      "_model_module_version": "1.5.0",
      "_model_name": "ProgressStyleModel",
      "_view_count": null,
      "_view_module": "@jupyter-widgets/base",
      "_view_module_version": "1.2.0",
      "_view_name": "StyleView",
      "bar_color": null,
      "description_width": ""
     }
    },
    "8e32ec714f4f4f249cc90991970a1c11": {
     "model_module": "@jupyter-widgets/controls",
     "model_module_version": "1.5.0",
     "model_name": "HTMLModel",
     "state": {
      "_dom_classes": [],
      "_model_module": "@jupyter-widgets/controls",
      "_model_module_version": "1.5.0",
      "_model_name": "HTMLModel",
      "_view_count": null,
      "_view_module": "@jupyter-widgets/controls",
      "_view_module_version": "1.5.0",
      "_view_name": "HTMLView",
      "description": "",
      "description_tooltip": null,
      "layout": "IPY_MODEL_3b577ec919564739bfe7b1d95e0668b9",
      "placeholder": "​",
      "style": "IPY_MODEL_a440e512899b4a35bc8a360e4a9397f0",
      "value": "Downloading: 100%"
     }
    },
    "943c216a0be64492a8dbdc3dd60e9305": {
     "model_module": "@jupyter-widgets/base",
     "model_module_version": "1.2.0",
     "model_name": "LayoutModel",
     "state": {
      "_model_module": "@jupyter-widgets/base",
      "_model_module_version": "1.2.0",
      "_model_name": "LayoutModel",
      "_view_count": null,
      "_view_module": "@jupyter-widgets/base",
      "_view_module_version": "1.2.0",
      "_view_name": "LayoutView",
      "align_content": null,
      "align_items": null,
      "align_self": null,
      "border": null,
      "bottom": null,
      "display": null,
      "flex": null,
      "flex_flow": null,
      "grid_area": null,
      "grid_auto_columns": null,
      "grid_auto_flow": null,
      "grid_auto_rows": null,
      "grid_column": null,
      "grid_gap": null,
      "grid_row": null,
      "grid_template_areas": null,
      "grid_template_columns": null,
      "grid_template_rows": null,
      "height": null,
      "justify_content": null,
      "justify_items": null,
      "left": null,
      "margin": null,
      "max_height": null,
      "max_width": null,
      "min_height": null,
      "min_width": null,
      "object_fit": null,
      "object_position": null,
      "order": null,
      "overflow": null,
      "overflow_x": null,
      "overflow_y": null,
      "padding": null,
      "right": null,
      "top": null,
      "visibility": null,
      "width": null
     }
    },
    "95e83f5b17924abdb609e965889e829c": {
     "model_module": "@jupyter-widgets/controls",
     "model_module_version": "1.5.0",
     "model_name": "ProgressStyleModel",
     "state": {
      "_model_module": "@jupyter-widgets/controls",
      "_model_module_version": "1.5.0",
      "_model_name": "ProgressStyleModel",
      "_view_count": null,
      "_view_module": "@jupyter-widgets/base",
      "_view_module_version": "1.2.0",
      "_view_name": "StyleView",
      "bar_color": null,
      "description_width": ""
     }
    },
    "97f0da4fcefa46e4bab8e1aefd347eaf": {
     "model_module": "@jupyter-widgets/controls",
     "model_module_version": "1.5.0",
     "model_name": "HTMLModel",
     "state": {
      "_dom_classes": [],
      "_model_module": "@jupyter-widgets/controls",
      "_model_module_version": "1.5.0",
      "_model_name": "HTMLModel",
      "_view_count": null,
      "_view_module": "@jupyter-widgets/controls",
      "_view_module_version": "1.5.0",
      "_view_name": "HTMLView",
      "description": "",
      "description_tooltip": null,
      "layout": "IPY_MODEL_cddd7a4c593d44ba8c27a4abc2609887",
      "placeholder": "​",
      "style": "IPY_MODEL_7cb35e1431664073a2ef1044f2ad99cb",
      "value": " 226k/226k [00:00&lt;00:00, 1.45MB/s]"
     }
    },
    "99eff06a36a043a4a8f56f59dec8eba0": {
     "model_module": "@jupyter-widgets/controls",
     "model_module_version": "1.5.0",
     "model_name": "ProgressStyleModel",
     "state": {
      "_model_module": "@jupyter-widgets/controls",
      "_model_module_version": "1.5.0",
      "_model_name": "ProgressStyleModel",
      "_view_count": null,
      "_view_module": "@jupyter-widgets/base",
      "_view_module_version": "1.2.0",
      "_view_name": "StyleView",
      "bar_color": null,
      "description_width": ""
     }
    },
    "a172d42dc44d45d4b1437145c8369111": {
     "model_module": "@jupyter-widgets/controls",
     "model_module_version": "1.5.0",
     "model_name": "HBoxModel",
     "state": {
      "_dom_classes": [],
      "_model_module": "@jupyter-widgets/controls",
      "_model_module_version": "1.5.0",
      "_model_name": "HBoxModel",
      "_view_count": null,
      "_view_module": "@jupyter-widgets/controls",
      "_view_module_version": "1.5.0",
      "_view_name": "HBoxView",
      "box_style": "",
      "children": [
       "IPY_MODEL_c53079536e44489ea8379b588d4ced89",
       "IPY_MODEL_42ed6c08aecd4e77958df839845306af",
       "IPY_MODEL_2418f5ca65b34d5f957f1115db4a04e9"
      ],
      "layout": "IPY_MODEL_f268413e2f4747ec9a0108ae8128f138"
     }
    },
    "a1b781ee60534ef585d77700b4416c41": {
     "model_module": "@jupyter-widgets/base",
     "model_module_version": "1.2.0",
     "model_name": "LayoutModel",
     "state": {
      "_model_module": "@jupyter-widgets/base",
      "_model_module_version": "1.2.0",
      "_model_name": "LayoutModel",
      "_view_count": null,
      "_view_module": "@jupyter-widgets/base",
      "_view_module_version": "1.2.0",
      "_view_name": "LayoutView",
      "align_content": null,
      "align_items": null,
      "align_self": null,
      "border": null,
      "bottom": null,
      "display": null,
      "flex": null,
      "flex_flow": null,
      "grid_area": null,
      "grid_auto_columns": null,
      "grid_auto_flow": null,
      "grid_auto_rows": null,
      "grid_column": null,
      "grid_gap": null,
      "grid_row": null,
      "grid_template_areas": null,
      "grid_template_columns": null,
      "grid_template_rows": null,
      "height": null,
      "justify_content": null,
      "justify_items": null,
      "left": null,
      "margin": null,
      "max_height": null,
      "max_width": null,
      "min_height": null,
      "min_width": null,
      "object_fit": null,
      "object_position": null,
      "order": null,
      "overflow": null,
      "overflow_x": null,
      "overflow_y": null,
      "padding": null,
      "right": null,
      "top": null,
      "visibility": null,
      "width": null
     }
    },
    "a1f79e17de194da29e71f836a8085e1e": {
     "model_module": "@jupyter-widgets/base",
     "model_module_version": "1.2.0",
     "model_name": "LayoutModel",
     "state": {
      "_model_module": "@jupyter-widgets/base",
      "_model_module_version": "1.2.0",
      "_model_name": "LayoutModel",
      "_view_count": null,
      "_view_module": "@jupyter-widgets/base",
      "_view_module_version": "1.2.0",
      "_view_name": "LayoutView",
      "align_content": null,
      "align_items": null,
      "align_self": null,
      "border": null,
      "bottom": null,
      "display": null,
      "flex": null,
      "flex_flow": null,
      "grid_area": null,
      "grid_auto_columns": null,
      "grid_auto_flow": null,
      "grid_auto_rows": null,
      "grid_column": null,
      "grid_gap": null,
      "grid_row": null,
      "grid_template_areas": null,
      "grid_template_columns": null,
      "grid_template_rows": null,
      "height": null,
      "justify_content": null,
      "justify_items": null,
      "left": null,
      "margin": null,
      "max_height": null,
      "max_width": null,
      "min_height": null,
      "min_width": null,
      "object_fit": null,
      "object_position": null,
      "order": null,
      "overflow": null,
      "overflow_x": null,
      "overflow_y": null,
      "padding": null,
      "right": null,
      "top": null,
      "visibility": null,
      "width": null
     }
    },
    "a3c3a54bfe6743f8b74e6c4d46403994": {
     "model_module": "@jupyter-widgets/controls",
     "model_module_version": "1.5.0",
     "model_name": "FloatProgressModel",
     "state": {
      "_dom_classes": [],
      "_model_module": "@jupyter-widgets/controls",
      "_model_module_version": "1.5.0",
      "_model_name": "FloatProgressModel",
      "_view_count": null,
      "_view_module": "@jupyter-widgets/controls",
      "_view_module_version": "1.5.0",
      "_view_name": "ProgressView",
      "bar_style": "success",
      "description": "",
      "description_tooltip": null,
      "layout": "IPY_MODEL_37ad8d33e367413cbbcbffd6d3465e1c",
      "max": 571,
      "min": 0,
      "orientation": "horizontal",
      "style": "IPY_MODEL_a9c83687e80145088c548b1a4f38bf2c",
      "value": 571
     }
    },
    "a440e512899b4a35bc8a360e4a9397f0": {
     "model_module": "@jupyter-widgets/controls",
     "model_module_version": "1.5.0",
     "model_name": "DescriptionStyleModel",
     "state": {
      "_model_module": "@jupyter-widgets/controls",
      "_model_module_version": "1.5.0",
      "_model_name": "DescriptionStyleModel",
      "_view_count": null,
      "_view_module": "@jupyter-widgets/base",
      "_view_module_version": "1.2.0",
      "_view_name": "StyleView",
      "description_width": ""
     }
    },
    "a6d09fa0bbaa4340b80359a57b69e7a9": {
     "model_module": "@jupyter-widgets/controls",
     "model_module_version": "1.5.0",
     "model_name": "DescriptionStyleModel",
     "state": {
      "_model_module": "@jupyter-widgets/controls",
      "_model_module_version": "1.5.0",
      "_model_name": "DescriptionStyleModel",
      "_view_count": null,
      "_view_module": "@jupyter-widgets/base",
      "_view_module_version": "1.2.0",
      "_view_name": "StyleView",
      "description_width": ""
     }
    },
    "a9c83687e80145088c548b1a4f38bf2c": {
     "model_module": "@jupyter-widgets/controls",
     "model_module_version": "1.5.0",
     "model_name": "ProgressStyleModel",
     "state": {
      "_model_module": "@jupyter-widgets/controls",
      "_model_module_version": "1.5.0",
      "_model_name": "ProgressStyleModel",
      "_view_count": null,
      "_view_module": "@jupyter-widgets/base",
      "_view_module_version": "1.2.0",
      "_view_name": "StyleView",
      "bar_color": null,
      "description_width": ""
     }
    },
    "aad00aef6450427182e95ee46a3ec7cd": {
     "model_module": "@jupyter-widgets/controls",
     "model_module_version": "1.5.0",
     "model_name": "HBoxModel",
     "state": {
      "_dom_classes": [],
      "_model_module": "@jupyter-widgets/controls",
      "_model_module_version": "1.5.0",
      "_model_name": "HBoxModel",
      "_view_count": null,
      "_view_module": "@jupyter-widgets/controls",
      "_view_module_version": "1.5.0",
      "_view_name": "HBoxView",
      "box_style": "",
      "children": [
       "IPY_MODEL_501a9c5fe0a54123afef0a6d18e40bcd",
       "IPY_MODEL_00f6e9d245d8410ba6737a017903b85d",
       "IPY_MODEL_5ddf0ab8287c4d09bcaa577153849572"
      ],
      "layout": "IPY_MODEL_88be066bd25b402b8b6ebb32b3751c41"
     }
    },
    "ae04c9cd4c5048efb770a812517b15e4": {
     "model_module": "@jupyter-widgets/controls",
     "model_module_version": "1.5.0",
     "model_name": "HBoxModel",
     "state": {
      "_dom_classes": [],
      "_model_module": "@jupyter-widgets/controls",
      "_model_module_version": "1.5.0",
      "_model_name": "HBoxModel",
      "_view_count": null,
      "_view_module": "@jupyter-widgets/controls",
      "_view_module_version": "1.5.0",
      "_view_name": "HBoxView",
      "box_style": "",
      "children": [
       "IPY_MODEL_f2a2135876444c3ebf050c62950eac1b",
       "IPY_MODEL_fe83b22e736642ac8309922fbea61a99",
       "IPY_MODEL_78ab144d503643f69d73122f1b9c8407"
      ],
      "layout": "IPY_MODEL_a1f79e17de194da29e71f836a8085e1e"
     }
    },
    "b1132224ac20405cb6157ebd1ea35b3f": {
     "model_module": "@jupyter-widgets/base",
     "model_module_version": "1.2.0",
     "model_name": "LayoutModel",
     "state": {
      "_model_module": "@jupyter-widgets/base",
      "_model_module_version": "1.2.0",
      "_model_name": "LayoutModel",
      "_view_count": null,
      "_view_module": "@jupyter-widgets/base",
      "_view_module_version": "1.2.0",
      "_view_name": "LayoutView",
      "align_content": null,
      "align_items": null,
      "align_self": null,
      "border": null,
      "bottom": null,
      "display": null,
      "flex": null,
      "flex_flow": null,
      "grid_area": null,
      "grid_auto_columns": null,
      "grid_auto_flow": null,
      "grid_auto_rows": null,
      "grid_column": null,
      "grid_gap": null,
      "grid_row": null,
      "grid_template_areas": null,
      "grid_template_columns": null,
      "grid_template_rows": null,
      "height": null,
      "justify_content": null,
      "justify_items": null,
      "left": null,
      "margin": null,
      "max_height": null,
      "max_width": null,
      "min_height": null,
      "min_width": null,
      "object_fit": null,
      "object_position": null,
      "order": null,
      "overflow": null,
      "overflow_x": null,
      "overflow_y": null,
      "padding": null,
      "right": null,
      "top": null,
      "visibility": null,
      "width": null
     }
    },
    "b24ce3cec22c47c79da1ec2a62ca3d1d": {
     "model_module": "@jupyter-widgets/controls",
     "model_module_version": "1.5.0",
     "model_name": "DescriptionStyleModel",
     "state": {
      "_model_module": "@jupyter-widgets/controls",
      "_model_module_version": "1.5.0",
      "_model_name": "DescriptionStyleModel",
      "_view_count": null,
      "_view_module": "@jupyter-widgets/base",
      "_view_module_version": "1.2.0",
      "_view_name": "StyleView",
      "description_width": ""
     }
    },
    "b2fcc2290b7f4be4a06ad4cfa475e6ec": {
     "model_module": "@jupyter-widgets/controls",
     "model_module_version": "1.5.0",
     "model_name": "DescriptionStyleModel",
     "state": {
      "_model_module": "@jupyter-widgets/controls",
      "_model_module_version": "1.5.0",
      "_model_name": "DescriptionStyleModel",
      "_view_count": null,
      "_view_module": "@jupyter-widgets/base",
      "_view_module_version": "1.2.0",
      "_view_name": "StyleView",
      "description_width": ""
     }
    },
    "ba909e6707e3470098dbbaafcbc16d9c": {
     "model_module": "@jupyter-widgets/controls",
     "model_module_version": "1.5.0",
     "model_name": "DescriptionStyleModel",
     "state": {
      "_model_module": "@jupyter-widgets/controls",
      "_model_module_version": "1.5.0",
      "_model_name": "DescriptionStyleModel",
      "_view_count": null,
      "_view_module": "@jupyter-widgets/base",
      "_view_module_version": "1.2.0",
      "_view_name": "StyleView",
      "description_width": ""
     }
    },
    "bc3cc9d419c3480faa1286f3d9338d4c": {
     "model_module": "@jupyter-widgets/controls",
     "model_module_version": "1.5.0",
     "model_name": "DescriptionStyleModel",
     "state": {
      "_model_module": "@jupyter-widgets/controls",
      "_model_module_version": "1.5.0",
      "_model_name": "DescriptionStyleModel",
      "_view_count": null,
      "_view_module": "@jupyter-widgets/base",
      "_view_module_version": "1.2.0",
      "_view_name": "StyleView",
      "description_width": ""
     }
    },
    "bc67325d798b453689191518a4d77af7": {
     "model_module": "@jupyter-widgets/controls",
     "model_module_version": "1.5.0",
     "model_name": "ProgressStyleModel",
     "state": {
      "_model_module": "@jupyter-widgets/controls",
      "_model_module_version": "1.5.0",
      "_model_name": "ProgressStyleModel",
      "_view_count": null,
      "_view_module": "@jupyter-widgets/base",
      "_view_module_version": "1.2.0",
      "_view_name": "StyleView",
      "bar_color": null,
      "description_width": ""
     }
    },
    "c123bcad20a74f6dbb90c6adfe64a0b5": {
     "model_module": "@jupyter-widgets/base",
     "model_module_version": "1.2.0",
     "model_name": "LayoutModel",
     "state": {
      "_model_module": "@jupyter-widgets/base",
      "_model_module_version": "1.2.0",
      "_model_name": "LayoutModel",
      "_view_count": null,
      "_view_module": "@jupyter-widgets/base",
      "_view_module_version": "1.2.0",
      "_view_name": "LayoutView",
      "align_content": null,
      "align_items": null,
      "align_self": null,
      "border": null,
      "bottom": null,
      "display": null,
      "flex": null,
      "flex_flow": null,
      "grid_area": null,
      "grid_auto_columns": null,
      "grid_auto_flow": null,
      "grid_auto_rows": null,
      "grid_column": null,
      "grid_gap": null,
      "grid_row": null,
      "grid_template_areas": null,
      "grid_template_columns": null,
      "grid_template_rows": null,
      "height": null,
      "justify_content": null,
      "justify_items": null,
      "left": null,
      "margin": null,
      "max_height": null,
      "max_width": null,
      "min_height": null,
      "min_width": null,
      "object_fit": null,
      "object_position": null,
      "order": null,
      "overflow": null,
      "overflow_x": null,
      "overflow_y": null,
      "padding": null,
      "right": null,
      "top": null,
      "visibility": null,
      "width": null
     }
    },
    "c20e0a51b34b4e7785e4c8e81ca2c72a": {
     "model_module": "@jupyter-widgets/base",
     "model_module_version": "1.2.0",
     "model_name": "LayoutModel",
     "state": {
      "_model_module": "@jupyter-widgets/base",
      "_model_module_version": "1.2.0",
      "_model_name": "LayoutModel",
      "_view_count": null,
      "_view_module": "@jupyter-widgets/base",
      "_view_module_version": "1.2.0",
      "_view_name": "LayoutView",
      "align_content": null,
      "align_items": null,
      "align_self": null,
      "border": null,
      "bottom": null,
      "display": null,
      "flex": null,
      "flex_flow": null,
      "grid_area": null,
      "grid_auto_columns": null,
      "grid_auto_flow": null,
      "grid_auto_rows": null,
      "grid_column": null,
      "grid_gap": null,
      "grid_row": null,
      "grid_template_areas": null,
      "grid_template_columns": null,
      "grid_template_rows": null,
      "height": null,
      "justify_content": null,
      "justify_items": null,
      "left": null,
      "margin": null,
      "max_height": null,
      "max_width": null,
      "min_height": null,
      "min_width": null,
      "object_fit": null,
      "object_position": null,
      "order": null,
      "overflow": null,
      "overflow_x": null,
      "overflow_y": null,
      "padding": null,
      "right": null,
      "top": null,
      "visibility": null,
      "width": null
     }
    },
    "c53079536e44489ea8379b588d4ced89": {
     "model_module": "@jupyter-widgets/controls",
     "model_module_version": "1.5.0",
     "model_name": "HTMLModel",
     "state": {
      "_dom_classes": [],
      "_model_module": "@jupyter-widgets/controls",
      "_model_module_version": "1.5.0",
      "_model_name": "HTMLModel",
      "_view_count": null,
      "_view_module": "@jupyter-widgets/controls",
      "_view_module_version": "1.5.0",
      "_view_name": "HTMLView",
      "description": "",
      "description_tooltip": null,
      "layout": "IPY_MODEL_26d8f845288746e996160df8f81c531a",
      "placeholder": "​",
      "style": "IPY_MODEL_ba909e6707e3470098dbbaafcbc16d9c",
      "value": "Downloading: 100%"
     }
    },
    "cddd7a4c593d44ba8c27a4abc2609887": {
     "model_module": "@jupyter-widgets/base",
     "model_module_version": "1.2.0",
     "model_name": "LayoutModel",
     "state": {
      "_model_module": "@jupyter-widgets/base",
      "_model_module_version": "1.2.0",
      "_model_name": "LayoutModel",
      "_view_count": null,
      "_view_module": "@jupyter-widgets/base",
      "_view_module_version": "1.2.0",
      "_view_name": "LayoutView",
      "align_content": null,
      "align_items": null,
      "align_self": null,
      "border": null,
      "bottom": null,
      "display": null,
      "flex": null,
      "flex_flow": null,
      "grid_area": null,
      "grid_auto_columns": null,
      "grid_auto_flow": null,
      "grid_auto_rows": null,
      "grid_column": null,
      "grid_gap": null,
      "grid_row": null,
      "grid_template_areas": null,
      "grid_template_columns": null,
      "grid_template_rows": null,
      "height": null,
      "justify_content": null,
      "justify_items": null,
      "left": null,
      "margin": null,
      "max_height": null,
      "max_width": null,
      "min_height": null,
      "min_width": null,
      "object_fit": null,
      "object_position": null,
      "order": null,
      "overflow": null,
      "overflow_x": null,
      "overflow_y": null,
      "padding": null,
      "right": null,
      "top": null,
      "visibility": null,
      "width": null
     }
    },
    "d16505c1df114ea8832eacd622254c3d": {
     "model_module": "@jupyter-widgets/base",
     "model_module_version": "1.2.0",
     "model_name": "LayoutModel",
     "state": {
      "_model_module": "@jupyter-widgets/base",
      "_model_module_version": "1.2.0",
      "_model_name": "LayoutModel",
      "_view_count": null,
      "_view_module": "@jupyter-widgets/base",
      "_view_module_version": "1.2.0",
      "_view_name": "LayoutView",
      "align_content": null,
      "align_items": null,
      "align_self": null,
      "border": null,
      "bottom": null,
      "display": null,
      "flex": null,
      "flex_flow": null,
      "grid_area": null,
      "grid_auto_columns": null,
      "grid_auto_flow": null,
      "grid_auto_rows": null,
      "grid_column": null,
      "grid_gap": null,
      "grid_row": null,
      "grid_template_areas": null,
      "grid_template_columns": null,
      "grid_template_rows": null,
      "height": null,
      "justify_content": null,
      "justify_items": null,
      "left": null,
      "margin": null,
      "max_height": null,
      "max_width": null,
      "min_height": null,
      "min_width": null,
      "object_fit": null,
      "object_position": null,
      "order": null,
      "overflow": null,
      "overflow_x": null,
      "overflow_y": null,
      "padding": null,
      "right": null,
      "top": null,
      "visibility": null,
      "width": null
     }
    },
    "d223286d2baf4892a092c4c0e1d1e919": {
     "model_module": "@jupyter-widgets/controls",
     "model_module_version": "1.5.0",
     "model_name": "DescriptionStyleModel",
     "state": {
      "_model_module": "@jupyter-widgets/controls",
      "_model_module_version": "1.5.0",
      "_model_name": "DescriptionStyleModel",
      "_view_count": null,
      "_view_module": "@jupyter-widgets/base",
      "_view_module_version": "1.2.0",
      "_view_name": "StyleView",
      "description_width": ""
     }
    },
    "d52a242b477349b29dd2884febe8ee03": {
     "model_module": "@jupyter-widgets/controls",
     "model_module_version": "1.5.0",
     "model_name": "HBoxModel",
     "state": {
      "_dom_classes": [],
      "_model_module": "@jupyter-widgets/controls",
      "_model_module_version": "1.5.0",
      "_model_name": "HBoxModel",
      "_view_count": null,
      "_view_module": "@jupyter-widgets/controls",
      "_view_module_version": "1.5.0",
      "_view_name": "HBoxView",
      "box_style": "",
      "children": [
       "IPY_MODEL_67fccbe89254435e98b8960ee9b1e8f6",
       "IPY_MODEL_385c6fd77ace4065a2925867f7c1c9e4",
       "IPY_MODEL_880fcb4742b04d34aac4fae31c6d4ba5"
      ],
      "layout": "IPY_MODEL_13e4b7d64a54486cb09624b659e54903"
     }
    },
    "dbd15e24b6bb460fbf7a885717365dd2": {
     "model_module": "@jupyter-widgets/controls",
     "model_module_version": "1.5.0",
     "model_name": "HBoxModel",
     "state": {
      "_dom_classes": [],
      "_model_module": "@jupyter-widgets/controls",
      "_model_module_version": "1.5.0",
      "_model_name": "HBoxModel",
      "_view_count": null,
      "_view_module": "@jupyter-widgets/controls",
      "_view_module_version": "1.5.0",
      "_view_name": "HBoxView",
      "box_style": "",
      "children": [
       "IPY_MODEL_80801f32921c4d7f940205d3da587e47",
       "IPY_MODEL_a3c3a54bfe6743f8b74e6c4d46403994",
       "IPY_MODEL_45fd293af91b4dcf89ae221b657518c8"
      ],
      "layout": "IPY_MODEL_c20e0a51b34b4e7785e4c8e81ca2c72a"
     }
    },
    "e14eff0c75394851ac2224c383601b84": {
     "model_module": "@jupyter-widgets/controls",
     "model_module_version": "1.5.0",
     "model_name": "ProgressStyleModel",
     "state": {
      "_model_module": "@jupyter-widgets/controls",
      "_model_module_version": "1.5.0",
      "_model_name": "ProgressStyleModel",
      "_view_count": null,
      "_view_module": "@jupyter-widgets/base",
      "_view_module_version": "1.2.0",
      "_view_name": "StyleView",
      "bar_color": null,
      "description_width": ""
     }
    },
    "e44817f3250641adb454aa6482c370c2": {
     "model_module": "@jupyter-widgets/base",
     "model_module_version": "1.2.0",
     "model_name": "LayoutModel",
     "state": {
      "_model_module": "@jupyter-widgets/base",
      "_model_module_version": "1.2.0",
      "_model_name": "LayoutModel",
      "_view_count": null,
      "_view_module": "@jupyter-widgets/base",
      "_view_module_version": "1.2.0",
      "_view_name": "LayoutView",
      "align_content": null,
      "align_items": null,
      "align_self": null,
      "border": null,
      "bottom": null,
      "display": null,
      "flex": null,
      "flex_flow": null,
      "grid_area": null,
      "grid_auto_columns": null,
      "grid_auto_flow": null,
      "grid_auto_rows": null,
      "grid_column": null,
      "grid_gap": null,
      "grid_row": null,
      "grid_template_areas": null,
      "grid_template_columns": null,
      "grid_template_rows": null,
      "height": null,
      "justify_content": null,
      "justify_items": null,
      "left": null,
      "margin": null,
      "max_height": null,
      "max_width": null,
      "min_height": null,
      "min_width": null,
      "object_fit": null,
      "object_position": null,
      "order": null,
      "overflow": null,
      "overflow_x": null,
      "overflow_y": null,
      "padding": null,
      "right": null,
      "top": null,
      "visibility": null,
      "width": null
     }
    },
    "e4f8dd676bf847a78ae6dc8e008a031a": {
     "model_module": "@jupyter-widgets/base",
     "model_module_version": "1.2.0",
     "model_name": "LayoutModel",
     "state": {
      "_model_module": "@jupyter-widgets/base",
      "_model_module_version": "1.2.0",
      "_model_name": "LayoutModel",
      "_view_count": null,
      "_view_module": "@jupyter-widgets/base",
      "_view_module_version": "1.2.0",
      "_view_name": "LayoutView",
      "align_content": null,
      "align_items": null,
      "align_self": null,
      "border": null,
      "bottom": null,
      "display": null,
      "flex": null,
      "flex_flow": null,
      "grid_area": null,
      "grid_auto_columns": null,
      "grid_auto_flow": null,
      "grid_auto_rows": null,
      "grid_column": null,
      "grid_gap": null,
      "grid_row": null,
      "grid_template_areas": null,
      "grid_template_columns": null,
      "grid_template_rows": null,
      "height": null,
      "justify_content": null,
      "justify_items": null,
      "left": null,
      "margin": null,
      "max_height": null,
      "max_width": null,
      "min_height": null,
      "min_width": null,
      "object_fit": null,
      "object_position": null,
      "order": null,
      "overflow": null,
      "overflow_x": null,
      "overflow_y": null,
      "padding": null,
      "right": null,
      "top": null,
      "visibility": null,
      "width": null
     }
    },
    "e72204ca01974a3384d10c5a6d0997f9": {
     "model_module": "@jupyter-widgets/base",
     "model_module_version": "1.2.0",
     "model_name": "LayoutModel",
     "state": {
      "_model_module": "@jupyter-widgets/base",
      "_model_module_version": "1.2.0",
      "_model_name": "LayoutModel",
      "_view_count": null,
      "_view_module": "@jupyter-widgets/base",
      "_view_module_version": "1.2.0",
      "_view_name": "LayoutView",
      "align_content": null,
      "align_items": null,
      "align_self": null,
      "border": null,
      "bottom": null,
      "display": null,
      "flex": null,
      "flex_flow": null,
      "grid_area": null,
      "grid_auto_columns": null,
      "grid_auto_flow": null,
      "grid_auto_rows": null,
      "grid_column": null,
      "grid_gap": null,
      "grid_row": null,
      "grid_template_areas": null,
      "grid_template_columns": null,
      "grid_template_rows": null,
      "height": null,
      "justify_content": null,
      "justify_items": null,
      "left": null,
      "margin": null,
      "max_height": null,
      "max_width": null,
      "min_height": null,
      "min_width": null,
      "object_fit": null,
      "object_position": null,
      "order": null,
      "overflow": null,
      "overflow_x": null,
      "overflow_y": null,
      "padding": null,
      "right": null,
      "top": null,
      "visibility": null,
      "width": null
     }
    },
    "ecfcaf23c1314127a9b9bb824d129e91": {
     "model_module": "@jupyter-widgets/controls",
     "model_module_version": "1.5.0",
     "model_name": "FloatProgressModel",
     "state": {
      "_dom_classes": [],
      "_model_module": "@jupyter-widgets/controls",
      "_model_module_version": "1.5.0",
      "_model_name": "FloatProgressModel",
      "_view_count": null,
      "_view_module": "@jupyter-widgets/controls",
      "_view_module_version": "1.5.0",
      "_view_name": "ProgressView",
      "bar_style": "success",
      "description": "",
      "description_tooltip": null,
      "layout": "IPY_MODEL_e4f8dd676bf847a78ae6dc8e008a031a",
      "max": 231508,
      "min": 0,
      "orientation": "horizontal",
      "style": "IPY_MODEL_0366ba487dea4693879e514b757ef832",
      "value": 231508
     }
    },
    "f268413e2f4747ec9a0108ae8128f138": {
     "model_module": "@jupyter-widgets/base",
     "model_module_version": "1.2.0",
     "model_name": "LayoutModel",
     "state": {
      "_model_module": "@jupyter-widgets/base",
      "_model_module_version": "1.2.0",
      "_model_name": "LayoutModel",
      "_view_count": null,
      "_view_module": "@jupyter-widgets/base",
      "_view_module_version": "1.2.0",
      "_view_name": "LayoutView",
      "align_content": null,
      "align_items": null,
      "align_self": null,
      "border": null,
      "bottom": null,
      "display": null,
      "flex": null,
      "flex_flow": null,
      "grid_area": null,
      "grid_auto_columns": null,
      "grid_auto_flow": null,
      "grid_auto_rows": null,
      "grid_column": null,
      "grid_gap": null,
      "grid_row": null,
      "grid_template_areas": null,
      "grid_template_columns": null,
      "grid_template_rows": null,
      "height": null,
      "justify_content": null,
      "justify_items": null,
      "left": null,
      "margin": null,
      "max_height": null,
      "max_width": null,
      "min_height": null,
      "min_width": null,
      "object_fit": null,
      "object_position": null,
      "order": null,
      "overflow": null,
      "overflow_x": null,
      "overflow_y": null,
      "padding": null,
      "right": null,
      "top": null,
      "visibility": null,
      "width": null
     }
    },
    "f2a2135876444c3ebf050c62950eac1b": {
     "model_module": "@jupyter-widgets/controls",
     "model_module_version": "1.5.0",
     "model_name": "HTMLModel",
     "state": {
      "_dom_classes": [],
      "_model_module": "@jupyter-widgets/controls",
      "_model_module_version": "1.5.0",
      "_model_name": "HTMLModel",
      "_view_count": null,
      "_view_module": "@jupyter-widgets/controls",
      "_view_module_version": "1.5.0",
      "_view_name": "HTMLView",
      "description": "",
      "description_tooltip": null,
      "layout": "IPY_MODEL_c123bcad20a74f6dbb90c6adfe64a0b5",
      "placeholder": "​",
      "style": "IPY_MODEL_1f0d5af6cbc44b5fb8cb30ea186317ee",
      "value": "Downloading: 100%"
     }
    },
    "fa8b2a7c34784e86b3614bb803c1208a": {
     "model_module": "@jupyter-widgets/controls",
     "model_module_version": "1.5.0",
     "model_name": "DescriptionStyleModel",
     "state": {
      "_model_module": "@jupyter-widgets/controls",
      "_model_module_version": "1.5.0",
      "_model_name": "DescriptionStyleModel",
      "_view_count": null,
      "_view_module": "@jupyter-widgets/base",
      "_view_module_version": "1.2.0",
      "_view_name": "StyleView",
      "description_width": ""
     }
    },
    "fe83b22e736642ac8309922fbea61a99": {
     "model_module": "@jupyter-widgets/controls",
     "model_module_version": "1.5.0",
     "model_name": "FloatProgressModel",
     "state": {
      "_dom_classes": [],
      "_model_module": "@jupyter-widgets/controls",
      "_model_module_version": "1.5.0",
      "_model_name": "FloatProgressModel",
      "_view_count": null,
      "_view_module": "@jupyter-widgets/controls",
      "_view_module_version": "1.5.0",
      "_view_name": "ProgressView",
      "bar_style": "success",
      "description": "",
      "description_tooltip": null,
      "layout": "IPY_MODEL_e44817f3250641adb454aa6482c370c2",
      "max": 28,
      "min": 0,
      "orientation": "horizontal",
      "style": "IPY_MODEL_95e83f5b17924abdb609e965889e829c",
      "value": 28
     }
    }
   }
  }
 },
 "nbformat": 4,
 "nbformat_minor": 1
}
